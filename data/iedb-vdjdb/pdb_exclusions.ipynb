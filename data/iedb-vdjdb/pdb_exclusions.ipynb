{
 "cells": [
  {
   "cell_type": "code",
   "execution_count": null,
   "metadata": {
    "vscode": {
     "languageId": "plaintext"
    }
   },
   "outputs": [],
   "source": [
    "import polars as pl\n",
    "import sqlite3\n",
    "\n",
    "DB_PATH = \"/tgen_labs/altin/alphafold3/IEDB/2025-04-06/iedb_sqlite.db\"\n",
    "\n",
    "DB_SCHEMA_OVERRIDES = {\n",
    "    \"chain1_cur_v_gene\": pl.String,\n",
    "    \"chain1_cur_j_gene\": pl.String,\n",
    "    \"chain1_cur_v_dom_seq\": pl.String,\n",
    "    \"chain1_cur_cdr3_seq\": pl.String,\n",
    "    \"chain1_calc_v_gene\": pl.String,\n",
    "    \"chain1_calc_j_gene\": pl.String,\n",
    "    \"chain1_calc_v_dom_seq\": pl.String,\n",
    "    \"chain1_calc_cdr3_seq\": pl.String,\n",
    "    \"chain1_pro_seq\": pl.String,\n",
    "    \"chain1_species\": pl.Int32,\n",
    "    \"chain2_cur_v_gene\": pl.String,\n",
    "    \"chain2_cur_j_gene\": pl.String,\n",
    "    \"chain2_cur_v_dom_seq\": pl.String,\n",
    "    \"chain2_cur_cdr3_seq\": pl.String,\n",
    "    \"chain2_calc_v_gene\": pl.String,\n",
    "    \"chain2_calc_j_gene\": pl.String,\n",
    "    \"chain2_calc_v_dom_seq\": pl.String,\n",
    "    \"chain2_calc_cdr3_seq\": pl.String,\n",
    "    \"chain2_pro_seq\": pl.String,\n",
    "    \"chain2_species\": pl.Int32,\n",
    "    \"peptide\": pl.String,\n",
    "    \"pdb_id\": pl.String,\n",
    "}\n",
    "\n",
    "\n",
    "import polars as pl\n",
    "\n",
    "conn = sqlite3.connect(DB_PATH)\n",
    "iedb = pl.read_database(\n",
    "    connection=conn, query=QUERY_STR, schema_overrides=DB_SCHEMA_OVERRIDES\n",
    ")"
   ]
  }
 ],
 "metadata": {
  "language_info": {
   "name": "python"
  }
 },
 "nbformat": 4,
 "nbformat_minor": 2
}
