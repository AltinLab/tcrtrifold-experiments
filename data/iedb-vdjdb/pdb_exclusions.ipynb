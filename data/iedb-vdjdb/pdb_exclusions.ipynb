{
 "cells": [
  {
   "cell_type": "markdown",
   "metadata": {},
   "source": [
    "### DELETEME\n"
   ]
  },
  {
   "cell_type": "code",
   "execution_count": 1,
   "metadata": {},
   "outputs": [],
   "source": [
    "import polars as pl\n",
    "import sqlite3\n",
    "\n",
    "DB_PATH = \"/tgen_labs/altin/alphafold3/IEDB/2025-04-06/iedb_sqlite.db\"\n",
    "\n",
    "DB_SCHEMA_OVERRIDES = {\n",
    "    \"chain1_cur_v_gene\": pl.String,\n",
    "    \"chain1_cur_j_gene\": pl.String,\n",
    "    \"chain1_cur_v_dom_seq\": pl.String,\n",
    "    \"chain1_cur_cdr3_seq\": pl.String,\n",
    "    \"chain1_calc_v_gene\": pl.String,\n",
    "    \"chain1_calc_j_gene\": pl.String,\n",
    "    \"chain1_calc_v_dom_seq\": pl.String,\n",
    "    \"chain1_calc_cdr3_seq\": pl.String,\n",
    "    \"chain1_pro_seq\": pl.String,\n",
    "    \"chain1_species\": pl.Int32,\n",
    "    \"chain2_cur_v_gene\": pl.String,\n",
    "    \"chain2_cur_j_gene\": pl.String,\n",
    "    \"chain2_cur_v_dom_seq\": pl.String,\n",
    "    \"chain2_cur_cdr3_seq\": pl.String,\n",
    "    \"chain2_calc_v_gene\": pl.String,\n",
    "    \"chain2_calc_j_gene\": pl.String,\n",
    "    \"chain2_calc_v_dom_seq\": pl.String,\n",
    "    \"chain2_calc_cdr3_seq\": pl.String,\n",
    "    \"chain2_pro_seq\": pl.String,\n",
    "    \"chain2_species\": pl.Int32,\n",
    "    \"peptide\": pl.String,\n",
    "    \"pdb_id\": pl.String,\n",
    "}\n",
    "\n",
    "TRIAD_QUERY_STR = \"\"\"\n",
    "SELECT complex.pdb_id,\n",
    "    curated_receptor.distinct_receptor_id\n",
    "FROM complex\n",
    "    JOIN tcell on complex.complex_id = tcell.complex_id\n",
    "    JOIN tcell_receptor on tcell.tcell_id = tcell_receptor.tcell_id\n",
    "    JOIN curated_receptor on tcell_receptor.curated_receptor_id = curated_receptor.distinct_receptor_id;\"\"\"\n",
    "\n",
    "conn = sqlite3.connect(DB_PATH)\n",
    "iedb_pdb_triads = pl.read_database(\n",
    "    connection=conn,\n",
    "    query=TRIAD_QUERY_STR,\n",
    "    schema_overrides=DB_SCHEMA_OVERRIDES,\n",
    ")"
   ]
  },
  {
   "cell_type": "code",
   "execution_count": 12,
   "metadata": {},
   "outputs": [],
   "source": [
    "TRIAD_QUERY_STR = \"\"\"\n",
    "SELECT mhc_allele_restriction.*\n",
    "FROM mhc_allele_restriction;\"\"\"\n",
    "\n",
    "conn = sqlite3.connect(DB_PATH)\n",
    "iedb_pdb_complex = pl.read_database(\n",
    "    connection=conn,\n",
    "    query=TRIAD_QUERY_STR,\n",
    "    schema_overrides=DB_SCHEMA_OVERRIDES,\n",
    "    infer_schema_length=100000,\n",
    ")"
   ]
  },
  {
   "cell_type": "markdown",
   "metadata": {},
   "source": [
    "## 1. Create blast+ blastp input fastas\n"
   ]
  },
  {
   "cell_type": "code",
   "execution_count": 5,
   "metadata": {},
   "outputs": [],
   "source": [
    "import polars as pl\n",
    "\n",
    "iedb_human_I = pl.read_csv(\"iedb/human_I/iedb_human_I.csv\")\n",
    "iedb_human_II = pl.read_csv(\"iedb/human_II/iedb_human_II.csv\")\n",
    "iedb_mouse_I = pl.read_csv(\"iedb/mouse_I/iedb_mouse_I.csv\")\n",
    "iedb_mouse_II = pl.read_csv(\"iedb/mouse_II/iedb_mouse_II.csv\")\n",
    "\n",
    "vdjdb_human_I = pl.read_csv(\"vdjdb/human_I/vdjdb_human_I.csv\")\n",
    "vdjdb_human_II = pl.read_csv(\"vdjdb/human_II/vdjdb_human_II.csv\")\n",
    "vdjdb_mouse_I = pl.read_csv(\"vdjdb/mouse_I/vdjdb_mouse_I.csv\")\n",
    "vdjdb_mouse_II = pl.read_csv(\"vdjdb/mouse_II/vdjdb_mouse_II.csv\")"
   ]
  },
  {
   "cell_type": "code",
   "execution_count": 5,
   "metadata": {},
   "outputs": [],
   "source": [
    "def generate_fastas(df, fname):\n",
    "    with open(fname, \"w\") as f:\n",
    "        for col in [\n",
    "            \"peptide\",\n",
    "            \"mhc_1_seq\",\n",
    "            \"mhc_2_seq\",\n",
    "            \"tcr_1_seq\",\n",
    "            \"tcr_2_seq\",\n",
    "        ]:\n",
    "            unique_entries = df.select(col).unique()\n",
    "            for row in unique_entries.iter_rows(named=True):\n",
    "                seq = row[col]\n",
    "                f.write(f\">{seq}\\n{seq}\\n\")"
   ]
  },
  {
   "cell_type": "code",
   "execution_count": 26,
   "metadata": {},
   "outputs": [],
   "source": [
    "from tcr_format_parsers.common.TriadUtils import FORMAT_COLS\n",
    "\n",
    "all_triads = pl.concat(\n",
    "    [\n",
    "        iedb_human_I.select(FORMAT_COLS),\n",
    "        iedb_human_II.select(FORMAT_COLS),\n",
    "        iedb_mouse_I.select(FORMAT_COLS),\n",
    "        iedb_mouse_II.select(FORMAT_COLS),\n",
    "        vdjdb_human_I,\n",
    "        vdjdb_human_II,\n",
    "        vdjdb_mouse_I,\n",
    "        vdjdb_mouse_II,\n",
    "    ]\n",
    ")\n",
    "\n",
    "generate_fastas(all_triads, \"fasta_queries/all_triads.fasta\")"
   ]
  },
  {
   "cell_type": "markdown",
   "metadata": {},
   "source": [
    "## 2. Find pMHCs, TCRs, and full triads present in PDB\n"
   ]
  },
  {
   "cell_type": "code",
   "execution_count": 7,
   "metadata": {},
   "outputs": [],
   "source": [
    "import polars as pl\n",
    "\n",
    "# https://rnnh.github.io/bioinfo-notebook/docs/blast.html outfmt 10\n",
    "schema = {\n",
    "    \"query_id\": pl.String,\n",
    "    \"subject_id\": pl.String,\n",
    "    \"per_identity\": pl.Float64,\n",
    "    \"aln_length\": pl.Int32,\n",
    "    \"mismatches\": pl.Int32,\n",
    "    \"gap_opens\": pl.Int32,\n",
    "    \"q_start\": pl.Int32,\n",
    "    \"q_end\": pl.Int32,\n",
    "    \"s_start\": pl.Int32,\n",
    "    \"s_end\": pl.Int32,\n",
    "    \"e_value\": pl.Float64,\n",
    "    \"bit_score\": pl.Float64,\n",
    "}\n",
    "\n",
    "blast_results = (\n",
    "    pl.read_csv(\"pdb_blast_results/blast_result.csv\", schema=schema)\n",
    "    .with_columns(\n",
    "        pl.col(\"subject_id\").str.split(\"_\").list.get(0).alias(\"pdb\"),\n",
    "        pl.col(\"subject_id\").str.split(\"_\").list.get(1).alias(\"segid\"),\n",
    "    )\n",
    "    .drop(\"subject_id\")\n",
    ")"
   ]
  },
  {
   "cell_type": "code",
   "execution_count": 43,
   "metadata": {},
   "outputs": [],
   "source": [
    "def find_matching(row, blast_result, thresh=90):\n",
    "    pep_match = (\n",
    "        blast_result.filter(\n",
    "            pl.col(\"query_id\") == row[\"peptide\"],\n",
    "            pl.col(\"per_identity\") >= thresh,\n",
    "        )\n",
    "        .select(\"pdb\")\n",
    "        .unique()\n",
    "    )\n",
    "    mhc_1_match = (\n",
    "        blast_result.filter(\n",
    "            pl.col(\"query_id\") == row[\"mhc_1_seq\"],\n",
    "            pl.col(\"per_identity\") >= thresh,\n",
    "        )\n",
    "        .select(\"pdb\")\n",
    "        .unique()\n",
    "    )\n",
    "    mhc_2_match = (\n",
    "        blast_result.filter(\n",
    "            pl.col(\"query_id\") == row[\"mhc_2_seq\"],\n",
    "            pl.col(\"per_identity\") >= thresh,\n",
    "        )\n",
    "        .select(\"pdb\")\n",
    "        .unique()\n",
    "    )\n",
    "    tcr_1_match = (\n",
    "        blast_result.filter(\n",
    "            pl.col(\"query_id\") == row[\"tcr_1_seq\"],\n",
    "            pl.col(\"per_identity\") >= thresh,\n",
    "        )\n",
    "        .select(\"pdb\")\n",
    "        .unique()\n",
    "    )\n",
    "    tcr_2_match = (\n",
    "        blast_result.filter(\n",
    "            pl.col(\"query_id\") == row[\"tcr_2_seq\"],\n",
    "            pl.col(\"per_identity\") >= thresh,\n",
    "        )\n",
    "        .select(\"pdb\")\n",
    "        .unique()\n",
    "    )\n",
    "\n",
    "    pmhc_match_id = pep_match.join(mhc_1_match, on=\"pdb\").join(\n",
    "        mhc_2_match, on=\"pdb\"\n",
    "    )\n",
    "    pmhc_match = pmhc_match_id.height > 0\n",
    "    tcr_match_id = tcr_1_match.join(tcr_2_match, on=\"pdb\")\n",
    "    tcr_match = tcr_match_id.height > 0\n",
    "\n",
    "    triad_match_id = (\n",
    "        pep_match.join(tcr_1_match, on=\"pdb\")\n",
    "        .join(tcr_2_match, on=\"pdb\")\n",
    "        .join(mhc_1_match, on=\"pdb\")\n",
    "        .join(mhc_2_match, on=\"pdb\")\n",
    "    )\n",
    "    triad_match = triad_match_id.height > 0\n",
    "\n",
    "    new_row = row.copy()\n",
    "\n",
    "    new_row[\"pmhc_match\"] = pmhc_match\n",
    "    new_row[\"pmhc_match_id\"] = (\n",
    "        pmhc_match_id[0].select(\"pdb\").item() if pmhc_match else None\n",
    "    )\n",
    "    new_row[\"tcr_match\"] = tcr_match\n",
    "    new_row[\"tcr_match_id\"] = (\n",
    "        tcr_match_id[0].select(\"pdb\").item() if tcr_match else None\n",
    "    )\n",
    "    new_row[\"triad_match\"] = triad_match\n",
    "    new_row[\"triad_match_id\"] = (\n",
    "        triad_match_id[0].select(\"pdb\").item() if triad_match else None\n",
    "    )\n",
    "\n",
    "    return pl.DataFrame(new_row)"
   ]
  },
  {
   "cell_type": "code",
   "execution_count": 37,
   "metadata": {},
   "outputs": [
    {
     "name": "stderr",
     "output_type": "stream",
     "text": [
      "Processing rows: 100%|██████████| 268/268 [00:32<00:00,  8.22it/s]\n"
     ]
    },
    {
     "ename": "SchemaError",
     "evalue": "type String is incompatible with expected type Null",
     "output_type": "error",
     "traceback": [
      "\u001b[0;31m---------------------------------------------------------------------------\u001b[0m",
      "\u001b[0;31mSchemaError\u001b[0m                               Traceback (most recent call last)",
      "Cell \u001b[0;32mIn[37], line 3\u001b[0m\n\u001b[1;32m      1\u001b[0m \u001b[38;5;28;01mfrom\u001b[39;00m \u001b[38;5;21;01mmdaf3\u001b[39;00m\u001b[38;5;21;01m.\u001b[39;00m\u001b[38;5;21;01mFeatureExtraction\u001b[39;00m \u001b[38;5;28;01mimport\u001b[39;00m serial_apply, split_apply_combine\n\u001b[0;32m----> 3\u001b[0m result \u001b[38;5;241m=\u001b[39m serial_apply(iedb_mouse_II, find_matching, blast_results, thresh\u001b[38;5;241m=\u001b[39m\u001b[38;5;241m90\u001b[39m)\n",
      "File \u001b[0;32m~/workspace/mdaf3/mdaf3/FeatureExtraction.py:71\u001b[0m, in \u001b[0;36mserial_apply\u001b[0;34m(df, func, *args, **kwargs)\u001b[0m\n\u001b[1;32m     66\u001b[0m \u001b[38;5;28;01mfor\u001b[39;00m row \u001b[38;5;129;01min\u001b[39;00m tqdm(\n\u001b[1;32m     67\u001b[0m     df\u001b[38;5;241m.\u001b[39miter_rows(named\u001b[38;5;241m=\u001b[39m\u001b[38;5;28;01mTrue\u001b[39;00m), total\u001b[38;5;241m=\u001b[39mdf\u001b[38;5;241m.\u001b[39mheight, desc\u001b[38;5;241m=\u001b[39m\u001b[38;5;124m\"\u001b[39m\u001b[38;5;124mProcessing rows\u001b[39m\u001b[38;5;124m\"\u001b[39m\n\u001b[1;32m     68\u001b[0m ):\n\u001b[1;32m     69\u001b[0m     out\u001b[38;5;241m.\u001b[39mappend(func(row, \u001b[38;5;241m*\u001b[39margs, \u001b[38;5;241m*\u001b[39m\u001b[38;5;241m*\u001b[39mkwargs))\n\u001b[0;32m---> 71\u001b[0m \u001b[38;5;28;01mreturn\u001b[39;00m pl\u001b[38;5;241m.\u001b[39mconcat(out)\n",
      "File \u001b[0;32m~/miniconda3/envs/af3-analyzer/lib/python3.13/site-packages/polars/functions/eager.py:229\u001b[0m, in \u001b[0;36mconcat\u001b[0;34m(items, how, rechunk, parallel)\u001b[0m\n\u001b[1;32m    227\u001b[0m \u001b[38;5;28;01mif\u001b[39;00m \u001b[38;5;28misinstance\u001b[39m(first, pl\u001b[38;5;241m.\u001b[39mDataFrame):\n\u001b[1;32m    228\u001b[0m     \u001b[38;5;28;01mif\u001b[39;00m how \u001b[38;5;241m==\u001b[39m \u001b[38;5;124m\"\u001b[39m\u001b[38;5;124mvertical\u001b[39m\u001b[38;5;124m\"\u001b[39m:\n\u001b[0;32m--> 229\u001b[0m         out \u001b[38;5;241m=\u001b[39m wrap_df(plr\u001b[38;5;241m.\u001b[39mconcat_df(elems))\n\u001b[1;32m    230\u001b[0m     \u001b[38;5;28;01melif\u001b[39;00m how \u001b[38;5;241m==\u001b[39m \u001b[38;5;124m\"\u001b[39m\u001b[38;5;124mvertical_relaxed\u001b[39m\u001b[38;5;124m\"\u001b[39m:\n\u001b[1;32m    231\u001b[0m         out \u001b[38;5;241m=\u001b[39m wrap_ldf(\n\u001b[1;32m    232\u001b[0m             plr\u001b[38;5;241m.\u001b[39mconcat_lf(\n\u001b[1;32m    233\u001b[0m                 [df\u001b[38;5;241m.\u001b[39mlazy() \u001b[38;5;28;01mfor\u001b[39;00m df \u001b[38;5;129;01min\u001b[39;00m elems],\n\u001b[0;32m   (...)\u001b[0m\n\u001b[1;32m    237\u001b[0m             )\n\u001b[1;32m    238\u001b[0m         )\u001b[38;5;241m.\u001b[39mcollect(no_optimization\u001b[38;5;241m=\u001b[39m\u001b[38;5;28;01mTrue\u001b[39;00m)\n",
      "\u001b[0;31mSchemaError\u001b[0m: type String is incompatible with expected type Null"
     ]
    }
   ],
   "source": [
    "from mdaf3.FeatureExtraction import serial_apply, split_apply_combine\n",
    "\n",
    "result = serial_apply(iedb_mouse_II, find_matching, blast_results, thresh=90)"
   ]
  },
  {
   "cell_type": "code",
   "execution_count": null,
   "metadata": {},
   "outputs": [
    {
     "data": {
      "text/html": [
       "<div><style>\n",
       ".dataframe > thead > tr,\n",
       ".dataframe > tbody > tr {\n",
       "  text-align: right;\n",
       "  white-space: pre-wrap;\n",
       "}\n",
       "</style>\n",
       "<small>shape: (3, 24)</small><table border=\"1\" class=\"dataframe\"><thead><tr><th>job_name</th><th>cognate</th><th>peptide</th><th>mhc_class</th><th>mhc_1_chain</th><th>mhc_1_species</th><th>mhc_1_name</th><th>mhc_1_seq</th><th>mhc_2_chain</th><th>mhc_2_species</th><th>mhc_2_name</th><th>mhc_2_seq</th><th>tcr_1_chain</th><th>tcr_1_species</th><th>tcr_1_seq</th><th>tcr_2_chain</th><th>tcr_2_species</th><th>tcr_2_seq</th><th>pmhc_match</th><th>pmhc_match_id</th><th>tcr_match</th><th>tcr_match_id</th><th>triad_match</th><th>triad_match_id</th></tr><tr><td>str</td><td>bool</td><td>str</td><td>str</td><td>str</td><td>str</td><td>str</td><td>str</td><td>str</td><td>str</td><td>str</td><td>str</td><td>str</td><td>str</td><td>str</td><td>str</td><td>str</td><td>str</td><td>bool</td><td>str</td><td>bool</td><td>str</td><td>bool</td><td>str</td></tr></thead><tbody><tr><td>&quot;176aec5c779671222f393611797284…</td><td>true</td><td>&quot;FEAQKAKANKAVD&quot;</td><td>&quot;II&quot;</td><td>&quot;alpha&quot;</td><td>&quot;mouse&quot;</td><td>&quot;H2-IAb&quot;</td><td>&quot;EDDIEADHVGTYGISVYQSPGDIGQYTFEF…</td><td>&quot;beta&quot;</td><td>&quot;mouse&quot;</td><td>&quot;H2-IAb&quot;</td><td>&quot;GNSERHFVVQFKGECYYTNGTQRIRLVTRY…</td><td>&quot;alpha&quot;</td><td>&quot;mouse&quot;</td><td>&quot;KILTASFLLLGLHLSGVSGQQEKRDQQQVR…</td><td>&quot;beta&quot;</td><td>&quot;mouse&quot;</td><td>&quot;EAAVTQSPRNKVAVTGGKVTLSCNQTNNHN…</td><td>true</td><td>&quot;1LNU&quot;</td><td>true</td><td>&quot;4P23&quot;</td><td>true</td><td>&quot;4P23&quot;</td></tr><tr><td>&quot;a88aa507699d2da84da1705aec6045…</td><td>true</td><td>&quot;FKAQKAKANKAVD&quot;</td><td>&quot;II&quot;</td><td>&quot;alpha&quot;</td><td>&quot;mouse&quot;</td><td>&quot;H2-IAb&quot;</td><td>&quot;EDDIEADHVGTYGISVYQSPGDIGQYTFEF…</td><td>&quot;beta&quot;</td><td>&quot;mouse&quot;</td><td>&quot;H2-IAb&quot;</td><td>&quot;GNSERHFVVQFKGECYYTNGTQRIRLVTRY…</td><td>&quot;alpha&quot;</td><td>&quot;mouse&quot;</td><td>&quot;KILTASFLLLGLHLSGVSGQQEKRDQQQVR…</td><td>&quot;beta&quot;</td><td>&quot;mouse&quot;</td><td>&quot;EAAVTQSPRNKVAVTGGKVTLSCNQTNNHN…</td><td>true</td><td>&quot;1LNU&quot;</td><td>true</td><td>&quot;4P23&quot;</td><td>true</td><td>&quot;4P23&quot;</td></tr><tr><td>&quot;70b6492ffc04f2747187a039d7c86e…</td><td>false</td><td>&quot;FEAQKAKANAAVD&quot;</td><td>&quot;II&quot;</td><td>&quot;alpha&quot;</td><td>&quot;mouse&quot;</td><td>&quot;H2-IAb&quot;</td><td>&quot;EDDIEADHVGTYGISVYQSPGDIGQYTFEF…</td><td>&quot;beta&quot;</td><td>&quot;mouse&quot;</td><td>&quot;H2-IAb&quot;</td><td>&quot;GNSERHFVVQFKGECYYTNGTQRIRLVTRY…</td><td>&quot;alpha&quot;</td><td>&quot;mouse&quot;</td><td>&quot;KILTASFLLLGLHLSGVSGQQEKRDQQQVR…</td><td>&quot;beta&quot;</td><td>&quot;mouse&quot;</td><td>&quot;EAAVTQSPRNKVAVTGGKVTLSCNQTNNHN…</td><td>true</td><td>&quot;4P23&quot;</td><td>true</td><td>&quot;3RDT&quot;</td><td>true</td><td>&quot;4P23&quot;</td></tr></tbody></table></div>"
      ],
      "text/plain": [
       "shape: (3, 24)\n",
       "┌────────────┬─────────┬───────────┬───────────┬───┬───────────┬───────────┬───────────┬───────────┐\n",
       "│ job_name   ┆ cognate ┆ peptide   ┆ mhc_class ┆ … ┆ tcr_match ┆ tcr_match ┆ triad_mat ┆ triad_mat │\n",
       "│ ---        ┆ ---     ┆ ---       ┆ ---       ┆   ┆ ---       ┆ _id       ┆ ch        ┆ ch_id     │\n",
       "│ str        ┆ bool    ┆ str       ┆ str       ┆   ┆ bool      ┆ ---       ┆ ---       ┆ ---       │\n",
       "│            ┆         ┆           ┆           ┆   ┆           ┆ str       ┆ bool      ┆ str       │\n",
       "╞════════════╪═════════╪═══════════╪═══════════╪═══╪═══════════╪═══════════╪═══════════╪═══════════╡\n",
       "│ 176aec5c77 ┆ true    ┆ FEAQKAKAN ┆ II        ┆ … ┆ true      ┆ 4P23      ┆ true      ┆ 4P23      │\n",
       "│ 9671222f39 ┆         ┆ KAVD      ┆           ┆   ┆           ┆           ┆           ┆           │\n",
       "│ 3611797284 ┆         ┆           ┆           ┆   ┆           ┆           ┆           ┆           │\n",
       "│ …          ┆         ┆           ┆           ┆   ┆           ┆           ┆           ┆           │\n",
       "│ a88aa50769 ┆ true    ┆ FKAQKAKAN ┆ II        ┆ … ┆ true      ┆ 4P23      ┆ true      ┆ 4P23      │\n",
       "│ 9d2da84da1 ┆         ┆ KAVD      ┆           ┆   ┆           ┆           ┆           ┆           │\n",
       "│ 705aec6045 ┆         ┆           ┆           ┆   ┆           ┆           ┆           ┆           │\n",
       "│ …          ┆         ┆           ┆           ┆   ┆           ┆           ┆           ┆           │\n",
       "│ 70b6492ffc ┆ false   ┆ FEAQKAKAN ┆ II        ┆ … ┆ true      ┆ 3RDT      ┆ true      ┆ 4P23      │\n",
       "│ 04f2747187 ┆         ┆ AAVD      ┆           ┆   ┆           ┆           ┆           ┆           │\n",
       "│ a039d7c86e ┆         ┆           ┆           ┆   ┆           ┆           ┆           ┆           │\n",
       "│ …          ┆         ┆           ┆           ┆   ┆           ┆           ┆           ┆           │\n",
       "└────────────┴─────────┴───────────┴───────────┴───┴───────────┴───────────┴───────────┴───────────┘"
      ]
     },
     "execution_count": 45,
     "metadata": {},
     "output_type": "execute_result"
    }
   ],
   "source": [
    "resuasdf.filter(pl.col(\"triad_match\"))"
   ]
  },
  {
   "cell_type": "code",
   "execution_count": null,
   "metadata": {},
   "outputs": [],
   "source": []
  },
  {
   "cell_type": "code",
   "execution_count": 44,
   "metadata": {},
   "outputs": [
    {
     "name": "stderr",
     "output_type": "stream",
     "text": [
      "Processing rows:   0%|          | 0/268 [00:00<?, ?it/s]"
     ]
    },
    {
     "name": "stderr",
     "output_type": "stream",
     "text": [
      "Processing rows: 100%|██████████| 268/268 [00:32<00:00,  8.14it/s]\n",
      "Processing rows: 100%|██████████| 268/268 [00:34<00:00,  7.79it/s]\n",
      "Processing rows: 100%|██████████| 268/268 [00:34<00:00,  7.72it/s]\n",
      "Processing rows: 100%|██████████| 268/268 [00:33<00:00,  7.90it/s]\n",
      "Processing rows: 100%|██████████| 268/268 [00:32<00:00,  8.24it/s]\n",
      "Processing rows: 100%|██████████| 268/268 [00:32<00:00,  8.28it/s]\n",
      "Processing rows: 100%|██████████| 268/268 [00:32<00:00,  8.35it/s]\n",
      "Processing rows: 100%|██████████| 268/268 [00:31<00:00,  8.42it/s]\n",
      "Processing rows: 100%|██████████| 268/268 [00:30<00:00,  8.65it/s]\n",
      "Processing rows: 100%|██████████| 268/268 [00:31<00:00,  8.61it/s]\n",
      "Processing rows: 100%|██████████| 268/268 [00:31<00:00,  8.58it/s]\n"
     ]
    }
   ],
   "source": [
    "from mdaf3.FeatureExtraction import serial_apply, split_apply_combine\n",
    "\n",
    "results = []\n",
    "\n",
    "for i in range(90, 101, 1):\n",
    "    result = serial_apply(\n",
    "        iedb_mouse_II, find_matching, blast_results, thresh=i\n",
    "    )\n",
    "    results.append(result)"
   ]
  },
  {
   "cell_type": "code",
   "execution_count": 46,
   "metadata": {},
   "outputs": [],
   "source": [
    "match_rate_pmhc = [\n",
    "    r.filter(pl.col(\"pmhc_match\")).height / r.height for r in results\n",
    "]\n",
    "\n",
    "match_rate_tcr = [\n",
    "    r.filter(pl.col(\"tcr_match\")).height / r.height for r in results\n",
    "]\n",
    "\n",
    "match_rate_triad = [\n",
    "    r.filter(pl.col(\"triad_match\")).height / r.height for r in results\n",
    "]\n",
    "\n",
    "thresh = list(range(90, 101, 1))"
   ]
  },
  {
   "cell_type": "code",
   "execution_count": 50,
   "metadata": {},
   "outputs": [
    {
     "data": {
      "text/plain": [
       "[<matplotlib.lines.Line2D at 0x1551941d2210>]"
      ]
     },
     "execution_count": 50,
     "metadata": {},
     "output_type": "execute_result"
    },
    {
     "data": {
      "image/png": "[encoded data removed]",
      "text/plain": [
       "<Figure size 640x480 with 1 Axes>"
      ]
     },
     "metadata": {},
     "output_type": "display_data"
    }
   ],
   "source": [
    "import matplotlib.pyplot as plt\n",
    "\n",
    "plt.plot(thresh, match_rate_tcr, label=\"tcr\")"
   ]
  },
  {
   "cell_type": "code",
   "execution_count": 51,
   "metadata": {},
   "outputs": [
    {
     "data": {
      "text/plain": [
       "[<matplotlib.lines.Line2D at 0x15518c16c050>]"
      ]
     },
     "execution_count": 51,
     "metadata": {},
     "output_type": "execute_result"
    },
    {
     "data": {
      "image/png": "[encoded data removed]",
      "text/plain": [
       "<Figure size 640x480 with 1 Axes>"
      ]
     },
     "metadata": {},
     "output_type": "display_data"
    }
   ],
   "source": [
    "plt.plot(thresh, match_rate_pmhc, label=\"pmhc\")"
   ]
  },
  {
   "cell_type": "code",
   "execution_count": 61,
   "metadata": {},
   "outputs": [
    {
     "data": {
      "text/html": [
       "<div><style>\n",
       ".dataframe > thead > tr,\n",
       ".dataframe > tbody > tr {\n",
       "  text-align: right;\n",
       "  white-space: pre-wrap;\n",
       "}\n",
       "</style>\n",
       "<small>shape: (1, 1)</small><table border=\"1\" class=\"dataframe\"><thead><tr><th>mhc_1_name</th></tr><tr><td>str</td></tr></thead><tbody><tr><td>&quot;H2-IAg7&quot;</td></tr></tbody></table></div>"
      ],
      "text/plain": [
       "shape: (1, 1)\n",
       "┌────────────┐\n",
       "│ mhc_1_name │\n",
       "│ ---        │\n",
       "│ str        │\n",
       "╞════════════╡\n",
       "│ H2-IAg7    │\n",
       "└────────────┘"
      ]
     },
     "execution_count": 61,
     "metadata": {},
     "output_type": "execute_result"
    }
   ],
   "source": [
    "results[4].filter(pl.col(\"pmhc_match\")).select(\"mhc_1_name\").unique()"
   ]
  }
 ],
 "metadata": {
  "kernelspec": {
   "display_name": "af3-analyzer",
   "language": "python",
   "name": "python3"
  },
  "language_info": {
   "codemirror_mode": {
    "name": "ipython",
    "version": 3
   },
   "file_extension": ".py",
   "mimetype": "text/x-python",
   "name": "python",
   "nbconvert_exporter": "python",
   "pygments_lexer": "ipython3",
   "version": "3.13.2"
  }
 },
 "nbformat": 4,
 "nbformat_minor": 2
}
