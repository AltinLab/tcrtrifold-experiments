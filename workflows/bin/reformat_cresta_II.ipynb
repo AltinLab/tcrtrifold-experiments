{
 "cells": [
  {
   "cell_type": "code",
   "execution_count": 10,
   "id": "e5d0faea",
   "metadata": {},
   "outputs": [],
   "source": [
    "%load_ext autoreload\n",
    "%autoreload 2\n"
   ]
  },
  {
   "cell_type": "code",
   "execution_count": 1,
   "id": "ca28218a",
   "metadata": {},
   "outputs": [
    {
     "name": "stderr",
     "output_type": "stream",
     "text": [
      "/home/lwoods/miniconda3/envs/af3-analyzer/lib/python3.13/site-packages/tqdm/auto.py:21: TqdmWarning: IProgress not found. Please update jupyter and ipywidgets. See https://ipywidgets.readthedocs.io/en/stable/user_install.html\n",
      "  from .autonotebook import tqdm as notebook_tqdm\n"
     ]
    }
   ],
   "source": [
    "import polars as pl\n",
    "from tcr_format_parsers.common.TriadUtils import *\n",
    "\n",
    "\n",
    "triad = pl.read_csv(\n",
    "    \"/tgen_labs/altin/alphafold3/runs/manucript_inp/CRESTA/output/cresta.csv\"\n",
    ")"
   ]
  },
  {
   "cell_type": "code",
   "execution_count": 2,
   "id": "5ff2a2da",
   "metadata": {},
   "outputs": [],
   "source": [
    "def generate_job_name_pmhc(df):\n",
    "    df = df.with_columns(\n",
    "        pl.concat_str(\n",
    "            pl.concat_str(\n",
    "                [\n",
    "                    pl.col(\"peptide\"),\n",
    "                    pl.col(\"mhc_1_seq\"),\n",
    "                    pl.col(\"mhc_2_seq\"),\n",
    "                ],\n",
    "            )\n",
    "            .map_elements(\n",
    "                lambda x: hash_tcr_sequence(x, \"md5\"), return_dtype=pl.String\n",
    "            )\n",
    "            .alias(\"job_name\"),\n",
    "        )\n",
    "    )\n",
    "    return df\n",
    "\n",
    "\n",
    "cresta_pmhc = generate_job_name_pmhc(\n",
    "    triad.select(FORMAT_ANTIGEN_COLS).unique()\n",
    ").select([\"job_name\"] + FORMAT_ANTIGEN_COLS)"
   ]
  },
  {
   "cell_type": "code",
   "execution_count": 3,
   "id": "03b60780",
   "metadata": {},
   "outputs": [],
   "source": [
    "cresta_pmhc.write_csv(\"pmhc/cresta_antigen.csv\")"
   ]
  },
  {
   "cell_type": "markdown",
   "id": "5b395918",
   "metadata": {},
   "source": [
    "# 10x negatives\n"
   ]
  },
  {
   "cell_type": "code",
   "execution_count": 14,
   "id": "665d2fc3",
   "metadata": {},
   "outputs": [
    {
     "name": "stderr",
     "output_type": "stream",
     "text": [
      "Processing rows:   0%|          | 0/206 [00:00<?, ?it/s]"
     ]
    },
    {
     "name": "stderr",
     "output_type": "stream",
     "text": [
      "Processing rows: 100%|██████████| 206/206 [00:19<00:00, 10.82it/s]\n",
      "Processing rows:  59%|█████▉    | 993/1674 [01:21<01:00, 11.25it/s]"
     ]
    },
    {
     "name": "stdout",
     "output_type": "stream",
     "text": [
      "Limiting hmmer search to species ['human'] was requested but hits did not achieve a high enough bitscore. Reverting to using any species\n",
      "Limiting hmmer search to species ['human'] was requested but hits did not achieve a high enough bitscore. Reverting to using any species\n"
     ]
    },
    {
     "name": "stderr",
     "output_type": "stream",
     "text": [
      "Processing rows: 100%|██████████| 1674/1674 [02:17<00:00, 12.17it/s]\n"
     ]
    }
   ],
   "source": [
    "import polars as pl\n",
    "from tcr_format_parsers.common.TriadUtils import FORMAT_COLS, TCRDIST_COLS\n",
    "from tcr_format_parsers.common.TCRUtils import extract_tcrdist_cols\n",
    "from mdaf3.FeatureExtraction import *\n",
    "\n",
    "cognate = serial_apply(\n",
    "    pl.read_csv(\n",
    "        \"/tgen_labs/altin/alphafold3/runs/manucript_inp/CRESTA/output/cresta.csv\"\n",
    "    )\n",
    "    .filter(pl.col(\"cognate\"))\n",
    "    .select(FORMAT_COLS),\n",
    "    extract_tcrdist_cols,\n",
    ").select(FORMAT_COLS + TCRDIST_COLS + [\"tcr_1_cdr_2_5\", \"tcr_2_cdr_2_5\"])\n",
    "\n",
    "# yes, this dataset already has cdr annotations\n",
    "# but cresta doesn't, so we need to use\n",
    "# pw_tcrdist 'use_provided_cdr' which requires the cdr 2.5 region\n",
    "negs = serial_apply(\n",
    "    pl.read_parquet(\n",
    "        \"/tgen_labs/altin/alphafold3/runs/tcrtrifold-experiments/data/iedb/triad/human_II/human_II.parquet\"\n",
    "    )\n",
    "    .filter(~pl.col(\"cognate\"))\n",
    "    .select(FORMAT_COLS),\n",
    "    extract_tcrdist_cols,\n",
    ").select(FORMAT_COLS + TCRDIST_COLS + [\"tcr_1_cdr_2_5\", \"tcr_2_cdr_2_5\"])"
   ]
  },
  {
   "cell_type": "code",
   "execution_count": 26,
   "id": "5eb15e4a",
   "metadata": {},
   "outputs": [],
   "source": [
    "from tcr_format_parsers.common.TriadUtils import (\n",
    "    generate_all_possible_negs,\n",
    "    SOURCE_RENAME_DICT,\n",
    "    SOURCE_ANTIGEN_COLS,\n",
    "    FORMAT_ANTIGEN_COLS,\n",
    ")\n",
    "\n",
    "all_neg = generate_all_possible_negs(\n",
    "    pl.concat([cognate, negs]), use_provided_cdr=True\n",
    ").join(\n",
    "    # remove negatives that come from cresta\n",
    "    cognate.select(FORMAT_ANTIGEN_COLS).unique().rename(SOURCE_RENAME_DICT),\n",
    "    on=SOURCE_ANTIGEN_COLS,\n",
    "    how=\"anti\",\n",
    ")"
   ]
  },
  {
   "cell_type": "code",
   "execution_count": null,
   "id": "1eeebe50",
   "metadata": {},
   "outputs": [
    {
     "name": "stderr",
     "output_type": "stream",
     "text": [
      "Processing rows: 100%|██████████| 8/8 [00:38<00:00,  4.78s/it]\n"
     ]
    }
   ],
   "source": [
    "from process_utils import sample_to\n",
    "\n",
    "cresta_10x_negs = sample_to(\n",
    "    cognate.group_by(FORMAT_ANTIGEN_COLS).agg(\n",
    "        pl.len().alias(\"TCRdiv_samples\")\n",
    "    ),\n",
    "    all_neg,\n",
    "    10,\n",
    ")"
   ]
  },
  {
   "cell_type": "code",
   "execution_count": null,
   "id": "95826e30",
   "metadata": {},
   "outputs": [],
   "source": [
    "cognate_10x = pl.concat(\n",
    "    [\n",
    "        cognate.select(FORMAT_COLS + TCRDIST_COLS),\n",
    "        # ignore second element of tuple- only one antigen with missing TCRs, only short by 7\n",
    "        cresta_10x_negs[0].select(FORMAT_COLS + TCRDIST_COLS),\n",
    "    ]\n",
    ")"
   ]
  },
  {
   "cell_type": "code",
   "execution_count": 26,
   "id": "d9fb1c28",
   "metadata": {},
   "outputs": [
    {
     "name": "stderr",
     "output_type": "stream",
     "text": [
      "Processing rows:   0%|          | 0/2258 [00:00<?, ?it/s]"
     ]
    },
    {
     "name": "stderr",
     "output_type": "stream",
     "text": [
      "Processing rows:  34%|███▎      | 761/2258 [00:35<01:11, 21.02it/s]"
     ]
    },
    {
     "name": "stdout",
     "output_type": "stream",
     "text": [
      "Limiting hmmer search to species ['human'] was requested but hits did not achieve a high enough bitscore. Reverting to using any species\n"
     ]
    },
    {
     "name": "stderr",
     "output_type": "stream",
     "text": [
      "Processing rows:  58%|█████▊    | 1305/2258 [01:01<00:46, 20.63it/s]"
     ]
    },
    {
     "name": "stdout",
     "output_type": "stream",
     "text": [
      "Limiting hmmer search to species ['human'] was requested but hits did not achieve a high enough bitscore. Reverting to using any species\n"
     ]
    },
    {
     "name": "stderr",
     "output_type": "stream",
     "text": [
      "Processing rows: 100%|██████████| 2258/2258 [01:46<00:00, 21.28it/s]\n"
     ]
    }
   ],
   "source": [
    "from tcr_format_parsers.common.TriadUtils import shorten_tcrs\n",
    "from mdaf3.FeatureExtraction import serial_apply\n",
    "\n",
    "cognate_10x = serial_apply(\n",
    "    cognate_10x,\n",
    "    shorten_tcrs,\n",
    ")"
   ]
  },
  {
   "cell_type": "code",
   "execution_count": 30,
   "id": "0c792508",
   "metadata": {},
   "outputs": [],
   "source": [
    "from tcr_format_parsers.common.TriadUtils import FORMAT_TCR_COLS\n",
    "\n",
    "cognate_10x.select(FORMAT_COLS).unique().write_csv(\"triad/cresta_10x.csv\")\n",
    "cognate_10x.unique().write_parquet(\"triad/cresta_10x.parquet\")"
   ]
  },
  {
   "cell_type": "code",
   "execution_count": null,
   "id": "3844c028",
   "metadata": {},
   "outputs": [],
   "source": [
    "cognate_10x = pl.read_parquet(\n",
    "    \"/tgen_labs/altin/alphafold3/runs/tcrtrifold-experiments/data/cresta/triad/cresta_10x.parquet\"\n",
    ")"
   ]
  },
  {
   "cell_type": "markdown",
   "id": "f4dbf7a8",
   "metadata": {},
   "source": [
    "## Normal CRESTA set, with shortened TCR\n"
   ]
  },
  {
   "cell_type": "code",
   "execution_count": 34,
   "id": "1aed58a8",
   "metadata": {},
   "outputs": [
    {
     "name": "stderr",
     "output_type": "stream",
     "text": [
      "Processing rows:   0%|          | 0/411 [00:00<?, ?it/s]"
     ]
    },
    {
     "name": "stderr",
     "output_type": "stream",
     "text": [
      "Processing rows: 100%|██████████| 411/411 [00:42<00:00,  9.60it/s]\n",
      "Processing rows: 100%|██████████| 411/411 [00:21<00:00, 19.40it/s]\n"
     ]
    }
   ],
   "source": [
    "import polars as pl\n",
    "from tcr_format_parsers.common.TriadUtils import FORMAT_COLS, TCRDIST_COLS\n",
    "from tcr_format_parsers.common.TCRUtils import extract_tcrdist_cols\n",
    "from mdaf3.FeatureExtraction import *\n",
    "\n",
    "cresta_shortened = serial_apply(\n",
    "    pl.read_csv(\n",
    "        \"/tgen_labs/altin/alphafold3/runs/manucript_inp/CRESTA/output/cresta.csv\"\n",
    "    )\n",
    "    .select(FORMAT_COLS).unique(),\n",
    "    extract_tcrdist_cols,\n",
    ").select(FORMAT_COLS + TCRDIST_COLS + [\"tcr_1_cdr_2_5\", \"tcr_2_cdr_2_5\"])\n",
    "\n",
    "cresta_shortened = serial_apply(\n",
    "    cresta_shortened, shorten_tcrs\n",
    ")"
   ]
  },
  {
   "cell_type": "code",
   "execution_count": 36,
   "id": "8938e6d6",
   "metadata": {},
   "outputs": [],
   "source": [
    "from tcr_format_parsers.common.TriadUtils import FORMAT_TCR_COLS\n",
    "\n",
    "cresta_shortened.select(FORMAT_COLS).unique().write_csv(\n",
    "    \"triad/cresta_shortened.csv\"\n",
    ")\n",
    "cresta_shortened.unique().write_parquet(\"triad/cresta_shortened.parquet\")"
   ]
  }
 ],
 "metadata": {
  "kernelspec": {
   "display_name": "af3-analyzer",
   "language": "python",
   "name": "python3"
  },
  "language_info": {
   "codemirror_mode": {
    "name": "ipython",
    "version": 3
   },
   "file_extension": ".py",
   "mimetype": "text/x-python",
   "name": "python",
   "nbconvert_exporter": "python",
   "pygments_lexer": "ipython3",
   "version": "3.13.2"
  }
 },
 "nbformat": 4,
 "nbformat_minor": 5
}
