{
 "cells": [
  {
   "cell_type": "code",
   "execution_count": 1,
   "metadata": {},
   "outputs": [],
   "source": [
    "import polars as pl\n",
    "from tcr_format_parsers.common.MHCCodeConverter import (\n",
    "    B2M_HUMAN_SEQ,\n",
    "    HLACodeWebConverter,\n",
    ")\n",
    "from tcr_format_parsers.common.TriadUtils import (\n",
    "    generate_job_name,\n",
    "    FORMAT_COLS,\n",
    ")\n",
    "\n",
    "test_dat = pl.read_csv(\n",
    "    \"/tgen_labs/altin/alphafold3/runs/challenge_inp/test/test.csv\"\n",
    ")\n",
    "\n",
    "CUSTOM_COLS = [\"ID\", \"original\"]\n",
    "\n",
    "\n",
    "conv = HLACodeWebConverter()\n",
    "\n",
    "test_dat = (\n",
    "    test_dat.rename(\n",
    "        {\n",
    "            \"Peptide\": \"peptide\",\n",
    "            \"TCRb\": \"tcr_2_seq\",\n",
    "            \"TCRa\": \"tcr_1_seq\",\n",
    "            \"HLA\": \"mhc_1_name\",\n",
    "        }\n",
    "    )\n",
    "    .with_columns(\n",
    "        pl.lit(\"heavy\").alias(\"mhc_1_chain\"),\n",
    "        pl.lit(\"light\").alias(\"mhc_2_chain\"),\n",
    "        pl.lit(\"alpha\").alias(\"tcr_1_chain\"),\n",
    "        pl.lit(\"beta\").alias(\"tcr_2_chain\"),\n",
    "        pl.lit(\"human\").alias(\"tcr_1_species\"),\n",
    "        pl.lit(\"human\").alias(\"tcr_2_species\"),\n",
    "        pl.lit(\"human\").alias(\"mhc_1_species\"),\n",
    "        pl.lit(\"human\").alias(\"mhc_2_species\"),\n",
    "        pl.lit(B2M_HUMAN_SEQ).alias(\"mhc_2_seq\"),\n",
    "        pl.lit(\"B2M\").alias(\"mhc_2_name\"),\n",
    "        pl.lit(\"I\").alias(\"mhc_class\"),\n",
    "        pl.col(\"mhc_1_name\").str.split_exact(\"HLA-\", 1).alias(\"split_parts\"),\n",
    "        pl.lit(None).alias(\"cognate\"),\n",
    "    )\n",
    "    .select(pl.exclude(\"mhc_1_name\"))\n",
    "    .unnest(\"split_parts\")\n",
    "    .rename(\n",
    "        {\n",
    "            \"field_0\": \"tmp\",\n",
    "            \"field_1\": \"mhc_1_name\",\n",
    "        }\n",
    "    )\n",
    "    .select(pl.exclude(\"tmp\"))\n",
    "    .with_columns(\n",
    "        pl.col(\"mhc_1_name\")\n",
    "        .map_elements(\n",
    "            lambda x: conv.get_sequence(x, top_only=True),\n",
    "            return_dtype=pl.String,\n",
    "        )\n",
    "        .alias(\"mhc_1_seq\"),\n",
    "        pl.lit(True).alias(\"original\"),\n",
    "    )\n",
    ")\n",
    "\n",
    "test_dat = generate_job_name(test_dat)\n",
    "test_dat = test_dat.select(FORMAT_COLS + CUSTOM_COLS)"
   ]
  },
  {
   "cell_type": "code",
   "execution_count": 2,
   "metadata": {},
   "outputs": [],
   "source": [
    "from tcr_format_parsers.common.TriadUtils import (\n",
    "    FORMAT_TCR_COLS,\n",
    "    FORMAT_ANTIGEN_COLS,\n",
    ")\n",
    "\n",
    "\n",
    "unique_tcrs = test_dat.select(FORMAT_TCR_COLS).unique()\n",
    "unique_pmhc = test_dat.select(FORMAT_ANTIGEN_COLS).unique()\n",
    "\n",
    "unseen = unique_tcrs.join(unique_pmhc, how=\"cross\").join(\n",
    "    test_dat, on=FORMAT_TCR_COLS + FORMAT_ANTIGEN_COLS, how=\"anti\"\n",
    ")\n",
    "\n",
    "unseen = unseen.with_columns(\n",
    "    pl.lit(None).alias(\"cognate\"),\n",
    "    pl.lit(False).alias(\"original\"),\n",
    "    pl.lit(None).alias(\"ID\"),\n",
    ")\n",
    "unseen = generate_job_name(unseen)\n",
    "unseen = unseen.select(FORMAT_COLS + CUSTOM_COLS)\n",
    "\n",
    "test_dat = pl.concat([test_dat, unseen])"
   ]
  },
  {
   "cell_type": "code",
   "execution_count": 11,
   "metadata": {},
   "outputs": [],
   "source": [
    "test_dat.write_csv(\n",
    "    \"/tgen_labs/altin/alphafold3/runs/challenge_inp/test/output/test_unstd.csv\"\n",
    ")"
   ]
  },
  {
   "cell_type": "markdown",
   "metadata": {},
   "source": [
    "## Standardized run\n"
   ]
  },
  {
   "cell_type": "code",
   "execution_count": 4,
   "metadata": {},
   "outputs": [],
   "source": [
    "from tcr_format_parsers.common.TCRUtils import (\n",
    "    HUMAN_TRAC_SEQ,\n",
    "    HUMAN_TRAC_TOP,\n",
    "    HUMAN_TRBC1_SEQ,\n",
    "    HUMAN_TRBC1_TOP,\n",
    ")\n",
    "\n",
    "test_dat_std = test_dat.with_columns(\n",
    "    pl.col(\"tcr_1_seq\")\n",
    "    .map_elements(\n",
    "        lambda x: x + HUMAN_TRAC_SEQ[HUMAN_TRAC_TOP], return_dtype=pl.String\n",
    "    )\n",
    "    .alias(\"tcr_1_seq\"),\n",
    "    pl.col(\"tcr_2_seq\")\n",
    "    .map_elements(\n",
    "        lambda x: x + HUMAN_TRBC1_SEQ[HUMAN_TRBC1_TOP], return_dtype=pl.String\n",
    "    )\n",
    "    .alias(\"tcr_2_seq\"),\n",
    ")"
   ]
  },
  {
   "cell_type": "code",
   "execution_count": 9,
   "metadata": {},
   "outputs": [],
   "source": [
    "test_dat_std.write_csv(\n",
    "    \"/tgen_labs/altin/alphafold3/runs/challenge_inp/test/output/test_std.csv\"\n",
    ")"
   ]
  }
 ],
 "metadata": {
  "kernelspec": {
   "display_name": "tcr_format_parsers",
   "language": "python",
   "name": "python3"
  },
  "language_info": {
   "codemirror_mode": {
    "name": "ipython",
    "version": 3
   },
   "file_extension": ".py",
   "mimetype": "text/x-python",
   "name": "python",
   "nbconvert_exporter": "python",
   "pygments_lexer": "ipython3",
   "version": "3.13.2"
  }
 },
 "nbformat": 4,
 "nbformat_minor": 2
}
