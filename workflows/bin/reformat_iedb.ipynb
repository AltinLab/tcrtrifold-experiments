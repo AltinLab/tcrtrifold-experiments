{
 "cells": [
  {
   "cell_type": "markdown",
   "metadata": {},
   "source": [
    "### 0. Query IEDB (converted to SQLite) for assay data\n"
   ]
  },
  {
   "cell_type": "code",
   "execution_count": 3,
   "metadata": {},
   "outputs": [],
   "source": [
    "import polars as pl\n",
    "import sqlite3\n",
    "\n",
    "DB_PATH = \"/tgen_labs/altin/alphafold3/IEDB/2025-04-15/iedb_public.db\"\n",
    "\n",
    "TRIAD_QUERY_STR = \"\"\"\n",
    "SELECT curated_receptor.distinct_receptor_id as receptor_id,\n",
    "    assay_type.assay_type\n",
    "FROM tcell\n",
    "    JOIN tcell_receptor on tcell.tcell_id = tcell_receptor.tcell_id\n",
    "    JOIN assay_type on assay_type.assay_type_id = tcell.as_type_id\n",
    "    JOIN curated_receptor on tcell_receptor.curated_receptor_id = curated_receptor.curated_receptor_id;\n",
    "\"\"\"\n",
    "\n",
    "conn = sqlite3.connect(DB_PATH)\n",
    "iedb_metadat = (\n",
    "    pl.read_database(\n",
    "        connection=conn,\n",
    "        query=TRIAD_QUERY_STR,\n",
    "        infer_schema_length=1000000,\n",
    "    )\n",
    "    .cast({\"receptor_id\": pl.String})\n",
    "    .select(\"receptor_id\", \"assay_type\")\n",
    "    .unique()\n",
    ")"
   ]
  },
  {
   "cell_type": "markdown",
   "metadata": {},
   "source": [
    "### 1. Import triad data from IMMREP25 fork\n"
   ]
  },
  {
   "cell_type": "code",
   "execution_count": 4,
   "metadata": {},
   "outputs": [],
   "source": [
    "import polars as pl\n",
    "\n",
    "schema_overrides = {\n",
    "    \"references\": pl.String,\n",
    "    \"receptor_id\": pl.String,\n",
    "}\n",
    "\n",
    "iedb_human_I = pl.read_csv(\n",
    "    \"raw/human_I/immrep_IEDB.csv\", schema_overrides=schema_overrides\n",
    ")\n",
    "iedb_human_II = pl.read_csv(\n",
    "    \"raw/human_II/immrep_IEDB.csv\", schema_overrides=schema_overrides\n",
    ")"
   ]
  },
  {
   "cell_type": "markdown",
   "metadata": {},
   "source": [
    "### 2. Triad AF3 job CSVs for 1:1 matched dataset, parquet metadata\n"
   ]
  },
  {
   "cell_type": "markdown",
   "metadata": {},
   "source": [
    "#### Class I positives\n"
   ]
  },
  {
   "cell_type": "code",
   "execution_count": 5,
   "metadata": {},
   "outputs": [],
   "source": [
    "import polars as pl\n",
    "from tcr_format_parsers.common.MHCCodeConverter import (\n",
    "    B2M_HUMAN_SEQ,\n",
    "    HLACodeWebConverter,\n",
    ")\n",
    "from tcr_format_parsers.common.TriadUtils import (\n",
    "    generate_job_name,\n",
    "    FORMAT_COLS,\n",
    "    FORMAT_TCR_COLS,\n",
    "    FORMAT_ANTIGEN_COLS,\n",
    "    TCRDIST_COLS,\n",
    "    generate_negatives_antigen_matched,\n",
    ")\n",
    "\n",
    "human_conv = HLACodeWebConverter()\n",
    "\n",
    "addtl_cols = TCRDIST_COLS + [\n",
    "    \"receptor_id\",\n",
    "    \"references\",\n",
    "]\n",
    "\n",
    "iedb_human_I = (\n",
    "    iedb_human_I.rename(\n",
    "        {\n",
    "            \"Peptide\": \"peptide\",\n",
    "            \"TCRb\": \"tcr_2_seq\",\n",
    "            \"TCRa\": \"tcr_1_seq\",\n",
    "            \"HLA\": \"mhc_1_name\",\n",
    "            \"CDR1a\": \"tcr_1_cdr_1\",\n",
    "            \"CDR2a\": \"tcr_1_cdr_2\",\n",
    "            \"CDR3a\": \"tcr_1_cdr_3\",\n",
    "            \"CDR1b\": \"tcr_2_cdr_1\",\n",
    "            \"CDR2b\": \"tcr_2_cdr_2\",\n",
    "            \"CDR3b\": \"tcr_2_cdr_3\",\n",
    "            \"Va\": \"tcr_1_v_gene\",\n",
    "            \"Ja\": \"tcr_1_j_gene\",\n",
    "            \"Vb\": \"tcr_2_v_gene\",\n",
    "            \"Jb\": \"tcr_2_j_gene\",\n",
    "        }\n",
    "    )\n",
    "    .with_columns(\n",
    "        pl.lit(\"heavy\").alias(\"mhc_1_chain\"),\n",
    "        pl.lit(\"light\").alias(\"mhc_2_chain\"),\n",
    "        pl.lit(\"alpha\").alias(\"tcr_1_chain\"),\n",
    "        pl.lit(\"beta\").alias(\"tcr_2_chain\"),\n",
    "        pl.lit(\"human\").alias(\"tcr_1_species\"),\n",
    "        pl.lit(\"human\").alias(\"tcr_2_species\"),\n",
    "        pl.lit(\"human\").alias(\"mhc_1_species\"),\n",
    "        pl.lit(\"human\").alias(\"mhc_2_species\"),\n",
    "        pl.lit(B2M_HUMAN_SEQ).alias(\"mhc_2_seq\"),\n",
    "        pl.lit(\"B2M\").alias(\"mhc_2_name\"),\n",
    "        pl.lit(\"I\").alias(\"mhc_class\"),\n",
    "        pl.col(\"mhc_1_name\").str.split_exact(\"HLA-\", 1).alias(\"split_parts\"),\n",
    "        pl.lit(True).alias(\"cognate\"),\n",
    "        pl.col(\"receptor_id\").str.split(\",\").alias(\"receptor_id\"),\n",
    "        pl.col(\"references\").str.split(\",\").alias(\"references\"),\n",
    "    )\n",
    "    .select(pl.exclude(\"mhc_1_name\"))\n",
    "    .unnest(\"split_parts\")\n",
    "    .rename(\n",
    "        {\n",
    "            \"field_0\": \"tmp\",\n",
    "            \"field_1\": \"mhc_1_name\",\n",
    "        }\n",
    "    )\n",
    "    .select(pl.exclude(\"tmp\"))\n",
    "    .with_columns(\n",
    "        pl.col(\"mhc_1_name\")\n",
    "        .map_elements(\n",
    "            lambda x: human_conv.get_sequence(x, top_only=True),\n",
    "            return_dtype=pl.String,\n",
    "        )\n",
    "        .alias(\"mhc_1_seq\")\n",
    "    )\n",
    "    .filter(\n",
    "        pl.col(\"tcr_1_seq\").is_not_null(), pl.col(\"tcr_2_seq\").is_not_null()\n",
    "    )\n",
    "    .with_columns(\n",
    "        pl.when(pl.col(\"references\").is_not_null())\n",
    "        .then(\n",
    "            pl.col(\"references\").list.eval(\n",
    "                pl.element().str.split(\"/\").list.get(-1)\n",
    "            )\n",
    "        )\n",
    "        .otherwise(None)\n",
    "        .alias(\"references\")\n",
    "    )\n",
    ")\n",
    "\n",
    "iedb_human_I = generate_job_name(iedb_human_I)\n",
    "\n",
    "iedb_human_I = iedb_human_I.group_by(FORMAT_COLS + TCRDIST_COLS).agg(\n",
    "    [pl.col(\"references\").flatten(), pl.col(\"receptor_id\").flatten()]\n",
    ")\n",
    "\n",
    "\n",
    "iedb_human_I = (\n",
    "    iedb_human_I.explode(\"receptor_id\")\n",
    "    .join(iedb_metadat, on=\"receptor_id\", how=\"left\")\n",
    "    .group_by(pl.exclude(\"receptor_id\", \"assay_type\"))\n",
    "    .agg(\n",
    "        [\n",
    "            pl.col(\"receptor_id\"),\n",
    "            pl.col(\"assay_type\"),\n",
    "        ]\n",
    "    )\n",
    ")"
   ]
  },
  {
   "cell_type": "markdown",
   "metadata": {},
   "source": [
    "#### Class I negatives (for 1:1 matched dataset)\n"
   ]
  },
  {
   "cell_type": "code",
   "execution_count": null,
   "metadata": {},
   "outputs": [],
   "source": [
    "iedb_human_I_negs = generate_negatives_antigen_matched(\n",
    "    iedb_human_I\n",
    ").with_columns(\n",
    "    pl.lit(None).alias(\"references\"),\n",
    "    pl.lit(None).alias(\"receptor_id\"),\n",
    "    pl.lit(None).alias(\"assay_type\"),\n",
    ")\n",
    "\n",
    "iedb_human_I = pl.concat(\n",
    "    [iedb_human_I, iedb_human_I_negs], how=\"vertical_relaxed\"\n",
    ")"
   ]
  },
  {
   "cell_type": "markdown",
   "metadata": {},
   "source": [
    "#### Save class I 1:1 matched dataset to disk\n"
   ]
  },
  {
   "cell_type": "code",
   "execution_count": 9,
   "metadata": {},
   "outputs": [],
   "source": [
    "iedb_human_I.select(FORMAT_COLS).write_csv(\"triad/human_I/human_I.csv\")\n",
    "iedb_human_I.write_parquet(\"triad/human_I/human_I.parquet\")"
   ]
  },
  {
   "cell_type": "markdown",
   "metadata": {},
   "source": [
    "#### Class II Positives\n"
   ]
  },
  {
   "cell_type": "code",
   "execution_count": 6,
   "metadata": {},
   "outputs": [
    {
     "name": "stderr",
     "output_type": "stream",
     "text": [
      "/tgen_labs/altin/alphafold3/runs/tcrtrifold-experiments/data/iedb/process_utils.py:52: UserWarning: Could not find DQA chain for DQB1*06:01\n",
      "  warnings.warn(f\"Could not find DQA chain for {b_chain}\")\n"
     ]
    }
   ],
   "source": [
    "from process_utils import infer_hla_chain\n",
    "\n",
    "iedb_human_II = (\n",
    "    iedb_human_II.rename(\n",
    "        {\n",
    "            \"Peptide\": \"peptide\",\n",
    "            \"TCRb\": \"tcr_2_seq\",\n",
    "            \"TCRa\": \"tcr_1_seq\",\n",
    "            \"HLA\": \"mhc_1_name\",\n",
    "            \"CDR1a\": \"tcr_1_cdr_1\",\n",
    "            \"CDR2a\": \"tcr_1_cdr_2\",\n",
    "            \"CDR3a\": \"tcr_1_cdr_3\",\n",
    "            \"CDR1b\": \"tcr_2_cdr_1\",\n",
    "            \"CDR2b\": \"tcr_2_cdr_2\",\n",
    "            \"CDR3b\": \"tcr_2_cdr_3\",\n",
    "            \"Va\": \"tcr_1_v_gene\",\n",
    "            \"Ja\": \"tcr_1_j_gene\",\n",
    "            \"Vb\": \"tcr_2_v_gene\",\n",
    "            \"Jb\": \"tcr_2_j_gene\",\n",
    "        }\n",
    "    )\n",
    "    .with_columns(\n",
    "        pl.lit(\"alpha\").alias(\"mhc_1_chain\"),\n",
    "        pl.lit(\"beta\").alias(\"mhc_2_chain\"),\n",
    "        pl.lit(\"alpha\").alias(\"tcr_1_chain\"),\n",
    "        pl.lit(\"beta\").alias(\"tcr_2_chain\"),\n",
    "        pl.lit(\"human\").alias(\"tcr_1_species\"),\n",
    "        pl.lit(\"human\").alias(\"tcr_2_species\"),\n",
    "        pl.lit(\"human\").alias(\"mhc_1_species\"),\n",
    "        pl.lit(\"human\").alias(\"mhc_2_species\"),\n",
    "        pl.lit(\"II\").alias(\"mhc_class\"),\n",
    "        pl.lit(True).alias(\"cognate\"),\n",
    "        pl.col(\"receptor_id\").str.split(\",\").alias(\"receptor_id\"),\n",
    "        pl.col(\"references\").str.split(\",\").alias(\"references\"),\n",
    "    )\n",
    "    .filter(\n",
    "        pl.col(\"tcr_1_seq\").is_not_null(), pl.col(\"tcr_2_seq\").is_not_null()\n",
    "    )\n",
    "    .with_columns(\n",
    "        pl.when(pl.col(\"references\").is_not_null())\n",
    "        .then(\n",
    "            pl.col(\"references\").list.eval(\n",
    "                pl.element().str.split(\"/\").list.get(-1)\n",
    "            )\n",
    "        )\n",
    "        .otherwise(None)\n",
    "        .alias(\"references\")\n",
    "    )\n",
    ")\n",
    "\n",
    "iedb_human_II = (\n",
    "    iedb_human_II.with_columns(\n",
    "        pl.col(\"mhc_1_name\").str.split(\"/\").alias(\"split_parts\")\n",
    "    )\n",
    "    .with_columns(\n",
    "        pl.when(pl.col(\"split_parts\").list.len() == 2)\n",
    "        .then(\n",
    "            pl.struct(\n",
    "                pl.col(\"split_parts\")\n",
    "                .list.get(0, null_on_oob=True)\n",
    "                .str.slice(4)\n",
    "                .alias(\"mhc_1_name\"),\n",
    "                pl.col(\"split_parts\")\n",
    "                .list.get(1, null_on_oob=True)\n",
    "                .alias(\"mhc_2_name\"),\n",
    "            )\n",
    "        )\n",
    "        .otherwise(\n",
    "            pl.struct(\n",
    "                pl.lit(None).alias(\"mhc_1_name\"),\n",
    "                pl.col(\"split_parts\")\n",
    "                .list.get(0)\n",
    "                .str.slice(4)\n",
    "                .alias(\"mhc_2_name\"),\n",
    "            )\n",
    "        )\n",
    "        .alias(\"mhc_struct\")\n",
    "    )\n",
    "    .select(pl.exclude(\"mhc_1_name\"))\n",
    "    .with_columns(\n",
    "        pl.col(\"mhc_struct\")\n",
    "        .map_elements(\n",
    "            lambda x: infer_hla_chain(x[\"mhc_1_name\"], x[\"mhc_2_name\"]),\n",
    "            return_dtype=pl.Struct,\n",
    "        )\n",
    "        .alias(\"chains\")\n",
    "    )\n",
    "    .unnest(\"chains\")\n",
    "    .filter(\n",
    "        (pl.col(\"mhc_1_name\").is_not_null())\n",
    "        & (pl.col(\"mhc_2_name\").is_not_null())\n",
    "    )\n",
    "    .with_columns(\n",
    "        pl.col(\"mhc_1_name\")\n",
    "        .map_elements(\n",
    "            lambda x: human_conv.get_sequence(x, top_only=True),\n",
    "            return_dtype=pl.String,\n",
    "        )\n",
    "        .alias(\"mhc_1_seq\"),\n",
    "        pl.col(\"mhc_2_name\")\n",
    "        .map_elements(\n",
    "            lambda x: human_conv.get_sequence(x, top_only=True),\n",
    "            return_dtype=pl.String,\n",
    "        )\n",
    "        .alias(\"mhc_2_seq\"),\n",
    "    )\n",
    ")\n",
    "\n",
    "\n",
    "iedb_human_II = generate_job_name(iedb_human_II)\n",
    "\n",
    "iedb_human_II = iedb_human_II.group_by(FORMAT_COLS + TCRDIST_COLS).agg(\n",
    "    [pl.col(\"references\").flatten(), pl.col(\"receptor_id\").flatten()]\n",
    ")\n",
    "\n",
    "iedb_human_II = (\n",
    "    iedb_human_II.explode(\"receptor_id\")\n",
    "    .join(iedb_metadat, on=\"receptor_id\", how=\"left\")\n",
    "    .group_by(pl.exclude(\"receptor_id\", \"assay_type\"))\n",
    "    .agg(\n",
    "        [\n",
    "            pl.col(\"receptor_id\"),\n",
    "            pl.col(\"assay_type\"),\n",
    "        ]\n",
    "    )\n",
    ")"
   ]
  },
  {
   "cell_type": "markdown",
   "metadata": {},
   "source": [
    "#### Class II negatives (for 1:1 matched dataset)\n"
   ]
  },
  {
   "cell_type": "code",
   "execution_count": null,
   "metadata": {},
   "outputs": [],
   "source": [
    "iedb_human_II_negs = generate_negatives_antigen_matched(\n",
    "    iedb_human_II\n",
    ").with_columns(\n",
    "    pl.lit(None).alias(\"references\"),\n",
    "    pl.lit(None).alias(\"receptor_id\"),\n",
    "    pl.lit(None).alias(\"assay_type\"),\n",
    ")\n",
    "\n",
    "iedb_human_II = pl.concat(\n",
    "    [iedb_human_II, iedb_human_II_negs], how=\"vertical_relaxed\"\n",
    ")"
   ]
  },
  {
   "cell_type": "markdown",
   "metadata": {},
   "source": [
    "#### Save class II 1:1 matched dataset to disk\n"
   ]
  },
  {
   "cell_type": "code",
   "execution_count": 16,
   "metadata": {},
   "outputs": [],
   "source": [
    "iedb_human_II.select(FORMAT_COLS).write_csv(\"triad/human_II/human_II.csv\")\n",
    "iedb_human_II.write_parquet(\"triad/human_II/human_II.parquet\")"
   ]
  },
  {
   "cell_type": "markdown",
   "metadata": {},
   "source": [
    "### 3. pMHC AF3 jobs & parquet metadata\n"
   ]
  },
  {
   "cell_type": "markdown",
   "metadata": {},
   "source": [
    "#### Per antigen count, TCR Diversity, job name for AF3\n"
   ]
  },
  {
   "cell_type": "code",
   "execution_count": null,
   "metadata": {},
   "outputs": [],
   "source": [
    "from tcr_format_parsers.common.TriadUtils import (\n",
    "    per_antigen_diversity,\n",
    "    FORMAT_ANTIGEN_COLS,\n",
    ")\n",
    "from tcr_format_parsers.common.TCRUtils import (\n",
    "    hash_tcr_sequence,\n",
    ")\n",
    "\n",
    "iedb_human_II = pl.read_parquet(\"triad/human_II/human_II.parquet\")\n",
    "iedb_human_I = pl.read_parquet(\"triad/human_I/human_I.parquet\")\n",
    "\n",
    "iedb_human_I_antigen = per_antigen_diversity(\n",
    "    iedb_human_I.filter(pl.col(\"cognate\"))\n",
    ")\n",
    "iedb_human_II_antigen = per_antigen_diversity(\n",
    "    iedb_human_II.filter(pl.col(\"cognate\"))\n",
    ")\n",
    "\n",
    "\n",
    "def generate_job_name_pmhc(df):\n",
    "    df = df.with_columns(\n",
    "        pl.concat_str(\n",
    "            pl.concat_str(\n",
    "                [\n",
    "                    pl.col(\"peptide\"),\n",
    "                    pl.col(\"mhc_1_seq\"),\n",
    "                    pl.col(\"mhc_2_seq\"),\n",
    "                ],\n",
    "            )\n",
    "            .map_elements(\n",
    "                lambda x: hash_tcr_sequence(x, \"md5\"), return_dtype=pl.String\n",
    "            )\n",
    "            .alias(\"job_name\"),\n",
    "        )\n",
    "    )\n",
    "    return df\n",
    "\n",
    "\n",
    "iedb_human_I_antigen = generate_job_name_pmhc(iedb_human_I_antigen).select(\n",
    "    [\"job_name\"] + FORMAT_ANTIGEN_COLS + [\"TCRdiv\", \"TCRdiv_samples\"]\n",
    ")\n",
    "\n",
    "iedb_human_II_antigen = generate_job_name_pmhc(iedb_human_II_antigen).select(\n",
    "    [\"job_name\"] + FORMAT_ANTIGEN_COLS + [\"TCRdiv\", \"TCRdiv_samples\"]\n",
    ")"
   ]
  },
  {
   "cell_type": "markdown",
   "metadata": {},
   "source": [
    "#### Save antigen data to disk\n"
   ]
  },
  {
   "cell_type": "code",
   "execution_count": null,
   "metadata": {},
   "outputs": [],
   "source": [
    "iedb_human_I_antigen.select([\"job_name\"] + FORMAT_ANTIGEN_COLS).write_csv(\n",
    "    \"pmhc/human_I/human_I_antigen.csv\"\n",
    ")\n",
    "iedb_human_I_antigen.write_parquet(\"pmhc/human_I/human_I_antigen.parquet\")\n",
    "\n",
    "\n",
    "iedb_human_II_antigen.select([\"job_name\"] + FORMAT_ANTIGEN_COLS).write_csv(\n",
    "    \"pmhc/human_II/human_II_antigen.csv\"\n",
    ")\n",
    "\n",
    "iedb_human_II_antigen.write_parquet(\"pmhc/human_II/human_II_antigen.parquet\")"
   ]
  },
  {
   "cell_type": "markdown",
   "metadata": {},
   "source": [
    "#### Per antigen pMHC PDB blast hit boolean / PDB ID\n"
   ]
  },
  {
   "cell_type": "code",
   "execution_count": null,
   "metadata": {},
   "outputs": [],
   "source": [
    "import polars as pl\n",
    "from mdaf3.FeatureExtraction import serial_apply, split_apply_combine\n",
    "from process_utils import find_matching\n",
    "\n",
    "iedb_human_II_antigen = pl.read_parquet(\n",
    "    \"pmhc/human_II/human_II_antigen.parquet\"\n",
    ")\n",
    "iedb_human_I_antigen = pl.read_parquet(\"pmhc/human_I/human_I_antigen.parquet\")\n",
    "\n",
    "# https://rnnh.github.io/bioinfo-notebook/docs/blast.html outfmt 10\n",
    "schema = {\n",
    "    \"query_id\": pl.String,\n",
    "    \"subject_id\": pl.String,\n",
    "    \"per_identity\": pl.Float64,\n",
    "    \"aln_length\": pl.Int32,\n",
    "    \"mismatches\": pl.Int32,\n",
    "    \"gap_opens\": pl.Int32,\n",
    "    \"q_start\": pl.Int32,\n",
    "    \"q_end\": pl.Int32,\n",
    "    \"s_start\": pl.Int32,\n",
    "    \"s_end\": pl.Int32,\n",
    "    \"e_value\": pl.Float64,\n",
    "    \"bit_score\": pl.Float64,\n",
    "}\n",
    "\n",
    "blast_results = (\n",
    "    pl.read_csv(\"blast_result.csv\", schema=schema)\n",
    "    .with_columns(\n",
    "        pl.col(\"subject_id\").str.split(\"_\").list.get(0).alias(\"pdb\"),\n",
    "        pl.col(\"subject_id\").str.split(\"_\").list.get(1).alias(\"segid\"),\n",
    "    )\n",
    "    .drop(\"subject_id\")\n",
    ")\n",
    "\n",
    "iedb_human_II_antigen = serial_apply(\n",
    "    iedb_human_II_antigen, find_matching, blast_results\n",
    ")\n",
    "\n",
    "iedb_human_I_antigen = serial_apply(\n",
    "    iedb_human_I_antigen, find_matching, blast_results\n",
    ")"
   ]
  },
  {
   "cell_type": "markdown",
   "metadata": {},
   "source": [
    "#### Save antigen data to disk\n"
   ]
  },
  {
   "cell_type": "code",
   "execution_count": 32,
   "metadata": {},
   "outputs": [],
   "source": [
    "iedb_human_II_antigen.write_parquet(\"pmhc/human_II/human_II_antigen.parquet\")\n",
    "iedb_human_I_antigen.write_parquet(\"pmhc/human_I/human_I_antigen.parquet\")"
   ]
  },
  {
   "cell_type": "markdown",
   "metadata": {},
   "source": [
    "### 4. Benchmark dataset construction\n"
   ]
  },
  {
   "cell_type": "markdown",
   "metadata": {},
   "source": [
    "#### Re-import data\n"
   ]
  },
  {
   "cell_type": "code",
   "execution_count": 1,
   "metadata": {},
   "outputs": [
    {
     "name": "stderr",
     "output_type": "stream",
     "text": [
      "/home/lwoods/miniconda3/envs/af3-analyzer/lib/python3.13/site-packages/tqdm/auto.py:21: TqdmWarning: IProgress not found. Please update jupyter and ipywidgets. See https://ipywidgets.readthedocs.io/en/stable/user_install.html\n",
      "  from .autonotebook import tqdm as notebook_tqdm\n"
     ]
    }
   ],
   "source": [
    "import polars as pl\n",
    "from tcr_format_parsers.common.TriadUtils import (\n",
    "    generate_job_name,\n",
    "    FORMAT_COLS,\n",
    "    FORMAT_TCR_COLS,\n",
    "    FORMAT_ANTIGEN_COLS,\n",
    "    TCRDIST_COLS,\n",
    "    generate_negatives_antigen_matched,\n",
    "    generate_all_possible_negs,\n",
    ")\n",
    "\n",
    "\n",
    "human_I_pos = pl.read_parquet(\"triad/human_I/human_I.parquet\").filter(\n",
    "    pl.col(\"cognate\")\n",
    ")\n",
    "human_II_pos = pl.read_parquet(\"triad/human_II/human_II.parquet\").filter(\n",
    "    pl.col(\"cognate\")\n",
    ")\n",
    "\n",
    "human_I_antigen = pl.read_parquet(\"pmhc/human_I/human_I_antigen.parquet\")\n",
    "human_II_antigen = pl.read_parquet(\"pmhc/human_II/human_II_antigen.parquet\")\n",
    "\n",
    "human_I_pos_thresh = human_I_pos.join(\n",
    "    human_I_antigen.select(FORMAT_ANTIGEN_COLS + [\"TCRdiv_samples\"]),\n",
    "    on=FORMAT_ANTIGEN_COLS,\n",
    ").filter(pl.col(\"TCRdiv_samples\") >= 3)\n",
    "human_II_pos_thresh = human_II_pos.join(\n",
    "    human_II_antigen.select(FORMAT_ANTIGEN_COLS + [\"TCRdiv_samples\"]),\n",
    "    on=FORMAT_ANTIGEN_COLS,\n",
    ").filter(pl.col(\"TCRdiv_samples\") >= 3)"
   ]
  },
  {
   "cell_type": "markdown",
   "metadata": {},
   "source": [
    "#### Generate within and cross class negatives\n"
   ]
  },
  {
   "cell_type": "code",
   "execution_count": null,
   "metadata": {},
   "outputs": [],
   "source": [
    "cross_negs = generate_all_possible_negs(\n",
    "    pl.concat([human_I_pos, human_II_pos]), cross_class=True\n",
    ")\n",
    "\n",
    "human_I_all_negs = generate_all_possible_negs(human_I_pos)\n",
    "human_II_all_negs = generate_all_possible_negs(human_II_pos)"
   ]
  },
  {
   "cell_type": "markdown",
   "metadata": {},
   "source": [
    "#### Sample down to 10 negs per pos\n"
   ]
  },
  {
   "cell_type": "code",
   "execution_count": null,
   "metadata": {},
   "outputs": [
    {
     "name": "stderr",
     "output_type": "stream",
     "text": [
      "Processing rows: 100%|██████████| 283/283 [07:47<00:00,  1.65s/it]\n"
     ]
    }
   ],
   "source": [
    "from process_utils import sample_to, sample_supplemental_negatives\n",
    "\n",
    "human_I_negs, missing_neg_antigens = sample_to(\n",
    "    human_I_antigen, human_I_all_negs, 10\n",
    ").with_columns(\n",
    "    pl.lit(None).alias(\"references\"),\n",
    "    pl.lit(None).alias(\"receptor_id\"),\n",
    "    pl.lit(None).alias(\"assay_type\"),\n",
    ")\n",
    "\n",
    "human_I_supp_negs = sample_supplemental_negatives(\n",
    "    missing_neg_antigens, cross_negs\n",
    ").with_columns(\n",
    "    pl.lit(None).alias(\"references\"),\n",
    "    pl.lit(None).alias(\"receptor_id\"),\n",
    "    pl.lit(None).alias(\"assay_type\"),\n",
    ")\n",
    "\n",
    "human_I_bench_thresh_3 = pl.concat(\n",
    "    [human_I_pos_thresh, human_I_negs, human_I_supp_negs]\n",
    ")\n",
    "\n",
    "human_II_negs, missing_neg_antigens = sample_to(\n",
    "    human_II_antigen, human_II_all_negs, 10\n",
    ").with_columns(\n",
    "    pl.lit(None).alias(\"references\"),\n",
    "    pl.lit(None).alias(\"receptor_id\"),\n",
    "    pl.lit(None).alias(\"assay_type\"),\n",
    ")\n",
    "\n",
    "human_II_supp_negs = sample_supplemental_negatives(\n",
    "    missing_neg_antigens, cross_negs\n",
    ").with_columns(\n",
    "    pl.lit(None).alias(\"references\"),\n",
    "    pl.lit(None).alias(\"receptor_id\"),\n",
    "    pl.lit(None).alias(\"assay_type\"),\n",
    ")\n",
    "\n",
    "human_II_bench_thresh_3 = pl.concat(\n",
    "    [human_II_pos_thresh, human_II_negs, human_II_supp_negs]\n",
    ")"
   ]
  },
  {
   "cell_type": "code",
   "execution_count": null,
   "metadata": {},
   "outputs": [],
   "source": [
    "human_I_bench_thresh_3.select(FORMAT_COLS).write_csv(\n",
    "    \"triad/human_I/human_I_bench_thresh_3.csv\"\n",
    ")\n",
    "human_I_bench_thresh_3.write_parquet(\n",
    "    \"triad/human_I/human_I_bench_thresh_3.parquet\"\n",
    ")\n",
    "\n",
    "\n",
    "human_II_bench_thresh_3.select(FORMAT_COLS).write_csv(\n",
    "    \"triad/human_II/human_II_bench_thresh_3.csv\"\n",
    ")\n",
    "human_II_bench_thresh_3.write_parquet(\n",
    "    \"triad/human_II/human_II_bench_thresh_3.parquet\"\n",
    ")"
   ]
  },
  {
   "cell_type": "markdown",
   "metadata": {},
   "source": [
    "### 5. Write benchmark and 1:1 dataset into tcrdock format\n",
    "\n",
    "After inference is complete\n"
   ]
  },
  {
   "cell_type": "markdown",
   "metadata": {},
   "source": [
    "#### Re-import data\n"
   ]
  },
  {
   "cell_type": "code",
   "execution_count": 2,
   "metadata": {},
   "outputs": [],
   "source": [
    "from pathlib import Path\n",
    "import polars as pl\n",
    "\n",
    "human_I = pl.read_parquet(\"triad/human_I/human_I.parquet\")\n",
    "\n",
    "human_I_bench_thresh_3 = pl.read_parquet(\n",
    "    \"triad/human_I/human_I_bench_thresh_3.parquet\"\n",
    ")\n",
    "\n",
    "human_II = pl.read_parquet(\"triad/human_II/human_II.parquet\")\n",
    "\n",
    "human_II_bench_thresh_3 = pl.read_parquet(\n",
    "    \"triad/human_II/human_II_bench_thresh_3.parquet\"\n",
    ")\n",
    "\n",
    "human_II_bench_inf = Path(\n",
    "    \"/tgen_labs/altin/alphafold3/runs/tcrtrifold-experiments/data/iedb/triad/human_II/inference\"\n",
    ")\n",
    "human_II_out_path = Path(\n",
    "    \"/tgen_labs/altin/alphafold3/runs/tcrtrifold-experiments/data/iedb/triad/human_II/tcrdock_pdb\"\n",
    ")\n",
    "\n",
    "human_I_bench_inf = Path(\n",
    "    \"/tgen_labs/altin/alphafold3/runs/tcrtrifold-experiments/data/iedb/triad/human_I/inference\"\n",
    ")\n",
    "human_I_out_path = Path(\n",
    "    \"/tgen_labs/altin/alphafold3/runs/tcrtrifold-experiments/data/iedb/triad/human_I/tcrdock_pdb\"\n",
    ")"
   ]
  },
  {
   "cell_type": "code",
   "execution_count": 80,
   "metadata": {},
   "outputs": [],
   "source": [
    "human_II_bench_thresh_3.with_columns(\n",
    "    pl.when(pl.col(\"mhc_class\") == \"I\")\n",
    "    .then(pl.lit(1))\n",
    "    .otherwise(pl.lit(2))\n",
    "    .alias(\"mhc_class\"),\n",
    "    pl.col(\"job_name\").alias(\"pdbid\"),\n",
    "    pl.lit(\"human\").alias(\"organism\"),\n",
    ").select(\"pdbid\", \"mhc_class\", \"organism\").write_csv(\n",
    "    \"triad/human_II/human_II_bench_thresh_3_tcrdock.csv\",\n",
    ")\n",
    "\n",
    "human_II.with_columns(\n",
    "    pl.when(pl.col(\"mhc_class\") == \"I\")\n",
    "    .then(pl.lit(1))\n",
    "    .otherwise(pl.lit(2))\n",
    "    .alias(\"mhc_class\"),\n",
    "    pl.col(\"job_name\").alias(\"pdbid\"),\n",
    "    pl.lit(\"human\").alias(\"organism\"),\n",
    ").select(\"pdbid\", \"mhc_class\", \"organism\").write_csv(\n",
    "    \"triad/human_II/human_II_tcrdock.csv\",\n",
    ")\n",
    "\n",
    "human_I_bench_thresh_3.with_columns(\n",
    "    pl.when(pl.col(\"mhc_class\") == \"I\")\n",
    "    .then(pl.lit(1))\n",
    "    .otherwise(pl.lit(2))\n",
    "    .alias(\"mhc_class\"),\n",
    "    pl.col(\"job_name\").alias(\"pdbid\"),\n",
    "    pl.lit(\"human\").alias(\"organism\"),\n",
    ").select(\"pdbid\", \"mhc_class\", \"organism\").write_csv(\n",
    "    \"triad/human_I/human_I_bench_thresh_3_tcrdock.csv\",\n",
    ")\n",
    "\n",
    "human_I.with_columns(\n",
    "    pl.when(pl.col(\"mhc_class\") == \"I\")\n",
    "    .then(pl.lit(1))\n",
    "    .otherwise(pl.lit(2))\n",
    "    .alias(\"mhc_class\"),\n",
    "    pl.col(\"job_name\").alias(\"pdbid\"),\n",
    "    pl.lit(\"human\").alias(\"organism\"),\n",
    ").select(\"pdbid\", \"mhc_class\", \"organism\").write_csv(\n",
    "    \"triad/human_I/human_I_tcrdock.csv\",\n",
    ")"
   ]
  },
  {
   "cell_type": "code",
   "execution_count": null,
   "metadata": {},
   "outputs": [],
   "source": [
    "from process_utils import tcrdock_format_cif\n",
    "from mdaf3.FeatureExtraction import split_apply_combine, serial_apply\n",
    "import warnings\n",
    "\n",
    "warnings.filterwarnings(\"ignore\")\n",
    "\n",
    "split_apply_combine(\n",
    "    human_II_bench_thresh_3,\n",
    "    tcrdock_format_cif,\n",
    "    human_II_bench_inf,\n",
    "    human_II_out_path,\n",
    ")\n",
    "split_apply_combine(\n",
    "    human_II, tcrdock_format_cif, human_II_bench_inf, human_II_out_path\n",
    ")\n",
    "\n",
    "split_apply_combine(\n",
    "    human_I, tcrdock_format_cif, human_I_bench_inf, human_I_out_path\n",
    ")\n",
    "split_apply_combine(\n",
    "    human_I_bench_thresh_3,\n",
    "    tcrdock_format_cif,\n",
    "    human_I_bench_inf,\n",
    "    human_I_out_path,\n",
    "    chunksize=5,\n",
    ")"
   ]
  },
  {
   "cell_type": "markdown",
   "metadata": {},
   "source": [
    "### 6. Write Class I benchmark\n"
   ]
  },
  {
   "cell_type": "code",
   "execution_count": null,
   "metadata": {},
   "outputs": [],
   "source": [
    "import polars as pl\n",
    "from pathlib import Path\n",
    "\n",
    "human_I_bench_thresh_3 = pl.read_parquet(\n",
    "    \"triad/human_I/human_I_bench_thresh_3.parquet\"\n",
    ")\n",
    "\n",
    "human_I_bench_inf = Path(\n",
    "    \"/tgen_labs/altin/alphafold3/runs/tcrtrifold-experiments/data/iedb/triad/human_I/inference\"\n",
    ")\n",
    "\n",
    "human_I_antigen = pl.read_parquet(\"pmhc/human_I/human_I_antigen.parquet\")"
   ]
  },
  {
   "cell_type": "code",
   "execution_count": null,
   "metadata": {},
   "outputs": [],
   "source": [
    "from tcr_format_parsers.common.TriadUtils import (\n",
    "    FORMAT_ANTIGEN_COLS,\n",
    "    FORMAT_COLS,\n",
    ")\n",
    "\n",
    "\n",
    "human_I_20 = (\n",
    "    human_I_antigen.filter(pl.col(\"TCRdiv_samples\") >= 20)\n",
    "    .with_row_index(\"group\")\n",
    "    .select(FORMAT_ANTIGEN_COLS + [\"group\"])\n",
    "    .join(human_I_bench_thresh_3, on=FORMAT_ANTIGEN_COLS)\n",
    ").select(\n",
    "    FORMAT_COLS\n",
    "    + TCRDIST_COLS\n",
    "    + [\n",
    "        \"references\",\n",
    "        \"receptor_id\",\n",
    "        \"assay_type\",\n",
    "        \"group\",\n",
    "    ]\n",
    ")"
   ]
  },
  {
   "cell_type": "code",
   "execution_count": 24,
   "metadata": {},
   "outputs": [],
   "source": [
    "human_I_20.write_parquet(\"triad/human_I/human_I_bench_thresh_20.parquet\")"
   ]
  },
  {
   "cell_type": "markdown",
   "metadata": {},
   "source": [
    "### 7. Rewrite class II benchmark dataset with 9mer windows\n"
   ]
  },
  {
   "cell_type": "code",
   "execution_count": 3,
   "metadata": {},
   "outputs": [],
   "source": [
    "import polars as pl\n",
    "from pathlib import Path\n",
    "\n",
    "human_II_bench_thresh_3 = pl.read_parquet(\n",
    "    \"triad/human_II/human_II_bench_thresh_3.parquet\"\n",
    ")\n",
    "\n",
    "human_II_bench_inf = Path(\n",
    "    \"/tgen_labs/altin/alphafold3/runs/tcrtrifold-experiments/data/iedb/triad/human_II/inference\"\n",
    ")\n",
    "human_II_out_path = Path(\n",
    "    \"/tgen_labs/altin/alphafold3/runs/tcrtrifold-experiments/data/iedb/triad/human_II/tcrdock_pdb\"\n",
    ")\n",
    "\n",
    "human_II_antigen = pl.read_parquet(\"pmhc/human_II/human_II_antigen.parquet\")"
   ]
  },
  {
   "cell_type": "code",
   "execution_count": 2,
   "metadata": {},
   "outputs": [
    {
     "name": "stderr",
     "output_type": "stream",
     "text": [
      "/home/lwoods/miniconda3/envs/af3-analyzer/lib/python3.13/site-packages/tqdm/auto.py:21: TqdmWarning: IProgress not found. Please update jupyter and ipywidgets. See https://ipywidgets.readthedocs.io/en/stable/user_install.html\n",
      "  from .autonotebook import tqdm as notebook_tqdm\n"
     ]
    }
   ],
   "source": [
    "from tcr_format_parsers.common.TriadUtils import (\n",
    "    FORMAT_ANTIGEN_COLS,\n",
    "    FORMAT_COLS,\n",
    ")\n",
    "\n",
    "human_II_20 = (\n",
    "    human_II_antigen.filter(pl.col(\"TCRdiv_samples\") >= 20)\n",
    "    .with_row_index(\"group\")\n",
    "    .select(FORMAT_ANTIGEN_COLS + [\"group\"])\n",
    "    .join(human_II_bench_thresh_3, on=FORMAT_ANTIGEN_COLS)\n",
    ").select(pl.exclude(\"job_name\"))"
   ]
  },
  {
   "cell_type": "code",
   "execution_count": 13,
   "metadata": {},
   "outputs": [],
   "source": [
    "from tcr_format_parsers.common.TriadUtils import (\n",
    "    generate_job_name,\n",
    "    TCRDIST_COLS,\n",
    ")\n",
    "\n",
    "human_II_20_windowed = (\n",
    "    human_II_20.with_columns(\n",
    "        pl.col(\"peptide\").map_elements(\n",
    "            lambda x: [x[i : i + 9] for i in range(0, len(x) - 8)],\n",
    "            return_dtype=pl.List(str),\n",
    "        )\n",
    "    )\n",
    "    .with_columns(\n",
    "        pl.int_ranges(pl.lit(0), pl.col(\"peptide\").list.len()).alias(\n",
    "            \"window_id\"\n",
    "        )\n",
    "    )\n",
    "    .with_row_index(\"entity_id\")\n",
    "    .explode([\"peptide\", \"window_id\"])\n",
    ")\n",
    "\n",
    "human_II_20_windowed = generate_job_name(\n",
    "    human_II_20_windowed, addtl_cols=[\"entity_id\"]\n",
    ").select(\n",
    "    FORMAT_COLS\n",
    "    + TCRDIST_COLS\n",
    "    + [\n",
    "        \"references\",\n",
    "        \"receptor_id\",\n",
    "        \"assay_type\",\n",
    "        \"group\",\n",
    "        \"entity_id\",\n",
    "        \"window_id\",\n",
    "    ]\n",
    ")"
   ]
  },
  {
   "cell_type": "code",
   "execution_count": null,
   "metadata": {},
   "outputs": [],
   "source": [
    "human_II_20_windowed.select(FORMAT_COLS).write_csv(\n",
    "    \"triad/human_II/human_II_bench_thresh_20_windowed.csv\"\n",
    ")\n",
    "human_II_20_windowed.write_parquet(\n",
    "    \"triad/human_II/human_II_bench_thresh_20_windowed.parquet\"\n",
    ")"
   ]
  },
  {
   "cell_type": "code",
   "execution_count": null,
   "metadata": {},
   "outputs": [],
   "source": [
    "import polars as pl\n",
    "\n",
    "human_II_20_windowed = (\n",
    "    pl.read_csv(\"triad/human_II/human_II_bench_thresh_20_windowed.csv\")\n",
    "    .with_columns(\n",
    "        pl.when(pl.col(\"mhc_class\") == \"I\")\n",
    "        .then(pl.lit(1))\n",
    "        .otherwise(pl.lit(2))\n",
    "        .alias(\"mhc_class\"),\n",
    "        pl.col(\"job_name\").alias(\"pdbid\"),\n",
    "        pl.lit(\"human\").alias(\"organism\"),\n",
    "    )\n",
    "    .select(\"pdbid\", \"mhc_class\", \"organism\")\n",
    "    .write_csv(\n",
    "        \"triad/human_II/human_II_windowed_tcrdock.csv\",\n",
    "    )\n",
    ")"
   ]
  },
  {
   "cell_type": "code",
   "execution_count": null,
   "metadata": {},
   "outputs": [
    {
     "name": "stderr",
     "output_type": "stream",
     "text": [
      "Processing rows:   0%|          | 0/83182 [00:00<?, ?it/s]"
     ]
    },
    {
     "name": "stderr",
     "output_type": "stream",
     "text": [
      "Processing rows: 100%|██████████| 83182/83182 [1:15:08<00:00, 18.45it/s]  \n"
     ]
    },
    {
     "data": {
      "text/html": [
       "<div><style>\n",
       ".dataframe > thead > tr,\n",
       ".dataframe > tbody > tr {\n",
       "  text-align: right;\n",
       "  white-space: pre-wrap;\n",
       "}\n",
       "</style>\n",
       "<small>shape: (83_182, 1)</small><table border=\"1\" class=\"dataframe\"><thead><tr><th>column_0</th></tr><tr><td>object</td></tr></thead><tbody><tr><td>shape: (1, 18)\n",
       "┌────────────┬─────────┬───────────┬───────────┬───┬───────────┬───────────┬───────────┬───────────┐\n",
       "│ job_name&nbsp;&nbsp;&nbsp;┆ cognate ┆ peptide&nbsp;&nbsp;&nbsp;┆ mhc_class ┆ … ┆ tcr_1_seq ┆ tcr_2_cha ┆ tcr_2_spe ┆ tcr_2_seq │\n",
       "│ ---&nbsp;&nbsp;&nbsp;&nbsp;&nbsp;&nbsp;&nbsp;&nbsp;┆ ---&nbsp;&nbsp;&nbsp;&nbsp;&nbsp;┆ ---&nbsp;&nbsp;&nbsp;&nbsp;&nbsp;&nbsp;&nbsp;┆ ---&nbsp;&nbsp;&nbsp;&nbsp;&nbsp;&nbsp;&nbsp;┆&nbsp;&nbsp;&nbsp;┆ ---&nbsp;&nbsp;&nbsp;&nbsp;&nbsp;&nbsp;&nbsp;┆ in&nbsp;&nbsp;&nbsp;&nbsp;&nbsp;&nbsp;&nbsp;&nbsp;┆ cies&nbsp;&nbsp;&nbsp;&nbsp;&nbsp;&nbsp;┆ ---&nbsp;&nbsp;&nbsp;&nbsp;&nbsp;&nbsp;&nbsp;│\n",
       "│ str&nbsp;&nbsp;&nbsp;&nbsp;&nbsp;&nbsp;&nbsp;&nbsp;┆ bool&nbsp;&nbsp;&nbsp;&nbsp;┆ str&nbsp;&nbsp;&nbsp;&nbsp;&nbsp;&nbsp;&nbsp;┆ str&nbsp;&nbsp;&nbsp;&nbsp;&nbsp;&nbsp;&nbsp;┆&nbsp;&nbsp;&nbsp;┆ str&nbsp;&nbsp;&nbsp;&nbsp;&nbsp;&nbsp;&nbsp;┆ ---&nbsp;&nbsp;&nbsp;&nbsp;&nbsp;&nbsp;&nbsp;┆ ---&nbsp;&nbsp;&nbsp;&nbsp;&nbsp;&nbsp;&nbsp;┆ str&nbsp;&nbsp;&nbsp;&nbsp;&nbsp;&nbsp;&nbsp;│\n",
       "│&nbsp;&nbsp;&nbsp;&nbsp;&nbsp;&nbsp;&nbsp;&nbsp;&nbsp;&nbsp;&nbsp;&nbsp;┆&nbsp;&nbsp;&nbsp;&nbsp;&nbsp;&nbsp;&nbsp;&nbsp;&nbsp;┆&nbsp;&nbsp;&nbsp;&nbsp;&nbsp;&nbsp;&nbsp;&nbsp;&nbsp;&nbsp;&nbsp;┆&nbsp;&nbsp;&nbsp;&nbsp;&nbsp;&nbsp;&nbsp;&nbsp;&nbsp;&nbsp;&nbsp;┆&nbsp;&nbsp;&nbsp;┆&nbsp;&nbsp;&nbsp;&nbsp;&nbsp;&nbsp;&nbsp;&nbsp;&nbsp;&nbsp;&nbsp;┆ str&nbsp;&nbsp;&nbsp;&nbsp;&nbsp;&nbsp;&nbsp;┆ str&nbsp;&nbsp;&nbsp;&nbsp;&nbsp;&nbsp;&nbsp;┆&nbsp;&nbsp;&nbsp;&nbsp;&nbsp;&nbsp;&nbsp;&nbsp;&nbsp;&nbsp;&nbsp;│\n",
       "╞════════════╪═════════╪═══════════╪═══════════╪═══╪═══════════╪═══════════╪═══════════╪═══════════╡\n",
       "│ 2179934f76 ┆ true&nbsp;&nbsp;&nbsp;&nbsp;┆ TFEYVSQPF ┆ II&nbsp;&nbsp;&nbsp;&nbsp;&nbsp;&nbsp;&nbsp;&nbsp;┆ … ┆ GQQLNQSPQ ┆ beta&nbsp;&nbsp;&nbsp;&nbsp;&nbsp;&nbsp;┆ human&nbsp;&nbsp;&nbsp;&nbsp;&nbsp;┆ NAGVTQTPK │\n",
       "│ 1479f4191e ┆&nbsp;&nbsp;&nbsp;&nbsp;&nbsp;&nbsp;&nbsp;&nbsp;&nbsp;┆&nbsp;&nbsp;&nbsp;&nbsp;&nbsp;&nbsp;&nbsp;&nbsp;&nbsp;&nbsp;&nbsp;┆&nbsp;&nbsp;&nbsp;&nbsp;&nbsp;&nbsp;&nbsp;&nbsp;&nbsp;&nbsp;&nbsp;┆&nbsp;&nbsp;&nbsp;┆ SMFIQEGED ┆&nbsp;&nbsp;&nbsp;&nbsp;&nbsp;&nbsp;&nbsp;&nbsp;&nbsp;&nbsp;&nbsp;┆&nbsp;&nbsp;&nbsp;&nbsp;&nbsp;&nbsp;&nbsp;&nbsp;&nbsp;&nbsp;&nbsp;┆ FQVLKTGQS │\n",
       "│ 72017f0d3f ┆&nbsp;&nbsp;&nbsp;&nbsp;&nbsp;&nbsp;&nbsp;&nbsp;&nbsp;┆&nbsp;&nbsp;&nbsp;&nbsp;&nbsp;&nbsp;&nbsp;&nbsp;&nbsp;&nbsp;&nbsp;┆&nbsp;&nbsp;&nbsp;&nbsp;&nbsp;&nbsp;&nbsp;&nbsp;&nbsp;&nbsp;&nbsp;┆&nbsp;&nbsp;&nbsp;┆ VSMNCTSSS ┆&nbsp;&nbsp;&nbsp;&nbsp;&nbsp;&nbsp;&nbsp;&nbsp;&nbsp;&nbsp;&nbsp;┆&nbsp;&nbsp;&nbsp;&nbsp;&nbsp;&nbsp;&nbsp;&nbsp;&nbsp;&nbsp;&nbsp;┆ MTLQCAQDM │\n",
       "│ …&nbsp;&nbsp;&nbsp;&nbsp;&nbsp;&nbsp;&nbsp;&nbsp;&nbsp;&nbsp;┆&nbsp;&nbsp;&nbsp;&nbsp;&nbsp;&nbsp;&nbsp;&nbsp;&nbsp;┆&nbsp;&nbsp;&nbsp;&nbsp;&nbsp;&nbsp;&nbsp;&nbsp;&nbsp;&nbsp;&nbsp;┆&nbsp;&nbsp;&nbsp;&nbsp;&nbsp;&nbsp;&nbsp;&nbsp;&nbsp;&nbsp;&nbsp;┆&nbsp;&nbsp;&nbsp;┆ IFN…&nbsp;&nbsp;&nbsp;&nbsp;&nbsp;&nbsp;┆&nbsp;&nbsp;&nbsp;&nbsp;&nbsp;&nbsp;&nbsp;&nbsp;&nbsp;&nbsp;&nbsp;┆&nbsp;&nbsp;&nbsp;&nbsp;&nbsp;&nbsp;&nbsp;&nbsp;&nbsp;&nbsp;&nbsp;┆ NHE…&nbsp;&nbsp;&nbsp;&nbsp;&nbsp;&nbsp;│\n",
       "└────────────┴─────────┴───────────┴───────────┴───┴───────────┴───────────┴───────────┴───────────┘</td></tr><tr><td>shape: (1, 18)\n",
       "┌────────────┬─────────┬───────────┬───────────┬───┬───────────┬───────────┬───────────┬───────────┐\n",
       "│ job_name&nbsp;&nbsp;&nbsp;┆ cognate ┆ peptide&nbsp;&nbsp;&nbsp;┆ mhc_class ┆ … ┆ tcr_1_seq ┆ tcr_2_cha ┆ tcr_2_spe ┆ tcr_2_seq │\n",
       "│ ---&nbsp;&nbsp;&nbsp;&nbsp;&nbsp;&nbsp;&nbsp;&nbsp;┆ ---&nbsp;&nbsp;&nbsp;&nbsp;&nbsp;┆ ---&nbsp;&nbsp;&nbsp;&nbsp;&nbsp;&nbsp;&nbsp;┆ ---&nbsp;&nbsp;&nbsp;&nbsp;&nbsp;&nbsp;&nbsp;┆&nbsp;&nbsp;&nbsp;┆ ---&nbsp;&nbsp;&nbsp;&nbsp;&nbsp;&nbsp;&nbsp;┆ in&nbsp;&nbsp;&nbsp;&nbsp;&nbsp;&nbsp;&nbsp;&nbsp;┆ cies&nbsp;&nbsp;&nbsp;&nbsp;&nbsp;&nbsp;┆ ---&nbsp;&nbsp;&nbsp;&nbsp;&nbsp;&nbsp;&nbsp;│\n",
       "│ str&nbsp;&nbsp;&nbsp;&nbsp;&nbsp;&nbsp;&nbsp;&nbsp;┆ bool&nbsp;&nbsp;&nbsp;&nbsp;┆ str&nbsp;&nbsp;&nbsp;&nbsp;&nbsp;&nbsp;&nbsp;┆ str&nbsp;&nbsp;&nbsp;&nbsp;&nbsp;&nbsp;&nbsp;┆&nbsp;&nbsp;&nbsp;┆ str&nbsp;&nbsp;&nbsp;&nbsp;&nbsp;&nbsp;&nbsp;┆ ---&nbsp;&nbsp;&nbsp;&nbsp;&nbsp;&nbsp;&nbsp;┆ ---&nbsp;&nbsp;&nbsp;&nbsp;&nbsp;&nbsp;&nbsp;┆ str&nbsp;&nbsp;&nbsp;&nbsp;&nbsp;&nbsp;&nbsp;│\n",
       "│&nbsp;&nbsp;&nbsp;&nbsp;&nbsp;&nbsp;&nbsp;&nbsp;&nbsp;&nbsp;&nbsp;&nbsp;┆&nbsp;&nbsp;&nbsp;&nbsp;&nbsp;&nbsp;&nbsp;&nbsp;&nbsp;┆&nbsp;&nbsp;&nbsp;&nbsp;&nbsp;&nbsp;&nbsp;&nbsp;&nbsp;&nbsp;&nbsp;┆&nbsp;&nbsp;&nbsp;&nbsp;&nbsp;&nbsp;&nbsp;&nbsp;&nbsp;&nbsp;&nbsp;┆&nbsp;&nbsp;&nbsp;┆&nbsp;&nbsp;&nbsp;&nbsp;&nbsp;&nbsp;&nbsp;&nbsp;&nbsp;&nbsp;&nbsp;┆ str&nbsp;&nbsp;&nbsp;&nbsp;&nbsp;&nbsp;&nbsp;┆ str&nbsp;&nbsp;&nbsp;&nbsp;&nbsp;&nbsp;&nbsp;┆&nbsp;&nbsp;&nbsp;&nbsp;&nbsp;&nbsp;&nbsp;&nbsp;&nbsp;&nbsp;&nbsp;│\n",
       "╞════════════╪═════════╪═══════════╪═══════════╪═══╪═══════════╪═══════════╪═══════════╪═══════════╡\n",
       "│ 20e0248684 ┆ true&nbsp;&nbsp;&nbsp;&nbsp;┆ FEYVSQPFL ┆ II&nbsp;&nbsp;&nbsp;&nbsp;&nbsp;&nbsp;&nbsp;&nbsp;┆ … ┆ GQQLNQSPQ ┆ beta&nbsp;&nbsp;&nbsp;&nbsp;&nbsp;&nbsp;┆ human&nbsp;&nbsp;&nbsp;&nbsp;&nbsp;┆ NAGVTQTPK │\n",
       "│ c3f99cf4df ┆&nbsp;&nbsp;&nbsp;&nbsp;&nbsp;&nbsp;&nbsp;&nbsp;&nbsp;┆&nbsp;&nbsp;&nbsp;&nbsp;&nbsp;&nbsp;&nbsp;&nbsp;&nbsp;&nbsp;&nbsp;┆&nbsp;&nbsp;&nbsp;&nbsp;&nbsp;&nbsp;&nbsp;&nbsp;&nbsp;&nbsp;&nbsp;┆&nbsp;&nbsp;&nbsp;┆ SMFIQEGED ┆&nbsp;&nbsp;&nbsp;&nbsp;&nbsp;&nbsp;&nbsp;&nbsp;&nbsp;&nbsp;&nbsp;┆&nbsp;&nbsp;&nbsp;&nbsp;&nbsp;&nbsp;&nbsp;&nbsp;&nbsp;&nbsp;&nbsp;┆ FQVLKTGQS │\n",
       "│ f21bae04a1 ┆&nbsp;&nbsp;&nbsp;&nbsp;&nbsp;&nbsp;&nbsp;&nbsp;&nbsp;┆&nbsp;&nbsp;&nbsp;&nbsp;&nbsp;&nbsp;&nbsp;&nbsp;&nbsp;&nbsp;&nbsp;┆&nbsp;&nbsp;&nbsp;&nbsp;&nbsp;&nbsp;&nbsp;&nbsp;&nbsp;&nbsp;&nbsp;┆&nbsp;&nbsp;&nbsp;┆ VSMNCTSSS ┆&nbsp;&nbsp;&nbsp;&nbsp;&nbsp;&nbsp;&nbsp;&nbsp;&nbsp;&nbsp;&nbsp;┆&nbsp;&nbsp;&nbsp;&nbsp;&nbsp;&nbsp;&nbsp;&nbsp;&nbsp;&nbsp;&nbsp;┆ MTLQCAQDM │\n",
       "│ …&nbsp;&nbsp;&nbsp;&nbsp;&nbsp;&nbsp;&nbsp;&nbsp;&nbsp;&nbsp;┆&nbsp;&nbsp;&nbsp;&nbsp;&nbsp;&nbsp;&nbsp;&nbsp;&nbsp;┆&nbsp;&nbsp;&nbsp;&nbsp;&nbsp;&nbsp;&nbsp;&nbsp;&nbsp;&nbsp;&nbsp;┆&nbsp;&nbsp;&nbsp;&nbsp;&nbsp;&nbsp;&nbsp;&nbsp;&nbsp;&nbsp;&nbsp;┆&nbsp;&nbsp;&nbsp;┆ IFN…&nbsp;&nbsp;&nbsp;&nbsp;&nbsp;&nbsp;┆&nbsp;&nbsp;&nbsp;&nbsp;&nbsp;&nbsp;&nbsp;&nbsp;&nbsp;&nbsp;&nbsp;┆&nbsp;&nbsp;&nbsp;&nbsp;&nbsp;&nbsp;&nbsp;&nbsp;&nbsp;&nbsp;&nbsp;┆ NHE…&nbsp;&nbsp;&nbsp;&nbsp;&nbsp;&nbsp;│\n",
       "└────────────┴─────────┴───────────┴───────────┴───┴───────────┴───────────┴───────────┴───────────┘</td></tr><tr><td>shape: (1, 18)\n",
       "┌────────────┬─────────┬───────────┬───────────┬───┬───────────┬───────────┬───────────┬───────────┐\n",
       "│ job_name&nbsp;&nbsp;&nbsp;┆ cognate ┆ peptide&nbsp;&nbsp;&nbsp;┆ mhc_class ┆ … ┆ tcr_1_seq ┆ tcr_2_cha ┆ tcr_2_spe ┆ tcr_2_seq │\n",
       "│ ---&nbsp;&nbsp;&nbsp;&nbsp;&nbsp;&nbsp;&nbsp;&nbsp;┆ ---&nbsp;&nbsp;&nbsp;&nbsp;&nbsp;┆ ---&nbsp;&nbsp;&nbsp;&nbsp;&nbsp;&nbsp;&nbsp;┆ ---&nbsp;&nbsp;&nbsp;&nbsp;&nbsp;&nbsp;&nbsp;┆&nbsp;&nbsp;&nbsp;┆ ---&nbsp;&nbsp;&nbsp;&nbsp;&nbsp;&nbsp;&nbsp;┆ in&nbsp;&nbsp;&nbsp;&nbsp;&nbsp;&nbsp;&nbsp;&nbsp;┆ cies&nbsp;&nbsp;&nbsp;&nbsp;&nbsp;&nbsp;┆ ---&nbsp;&nbsp;&nbsp;&nbsp;&nbsp;&nbsp;&nbsp;│\n",
       "│ str&nbsp;&nbsp;&nbsp;&nbsp;&nbsp;&nbsp;&nbsp;&nbsp;┆ bool&nbsp;&nbsp;&nbsp;&nbsp;┆ str&nbsp;&nbsp;&nbsp;&nbsp;&nbsp;&nbsp;&nbsp;┆ str&nbsp;&nbsp;&nbsp;&nbsp;&nbsp;&nbsp;&nbsp;┆&nbsp;&nbsp;&nbsp;┆ str&nbsp;&nbsp;&nbsp;&nbsp;&nbsp;&nbsp;&nbsp;┆ ---&nbsp;&nbsp;&nbsp;&nbsp;&nbsp;&nbsp;&nbsp;┆ ---&nbsp;&nbsp;&nbsp;&nbsp;&nbsp;&nbsp;&nbsp;┆ str&nbsp;&nbsp;&nbsp;&nbsp;&nbsp;&nbsp;&nbsp;│\n",
       "│&nbsp;&nbsp;&nbsp;&nbsp;&nbsp;&nbsp;&nbsp;&nbsp;&nbsp;&nbsp;&nbsp;&nbsp;┆&nbsp;&nbsp;&nbsp;&nbsp;&nbsp;&nbsp;&nbsp;&nbsp;&nbsp;┆&nbsp;&nbsp;&nbsp;&nbsp;&nbsp;&nbsp;&nbsp;&nbsp;&nbsp;&nbsp;&nbsp;┆&nbsp;&nbsp;&nbsp;&nbsp;&nbsp;&nbsp;&nbsp;&nbsp;&nbsp;&nbsp;&nbsp;┆&nbsp;&nbsp;&nbsp;┆&nbsp;&nbsp;&nbsp;&nbsp;&nbsp;&nbsp;&nbsp;&nbsp;&nbsp;&nbsp;&nbsp;┆ str&nbsp;&nbsp;&nbsp;&nbsp;&nbsp;&nbsp;&nbsp;┆ str&nbsp;&nbsp;&nbsp;&nbsp;&nbsp;&nbsp;&nbsp;┆&nbsp;&nbsp;&nbsp;&nbsp;&nbsp;&nbsp;&nbsp;&nbsp;&nbsp;&nbsp;&nbsp;│\n",
       "╞════════════╪═════════╪═══════════╪═══════════╪═══╪═══════════╪═══════════╪═══════════╪═══════════╡\n",
       "│ 61aadd8236 ┆ true&nbsp;&nbsp;&nbsp;&nbsp;┆ EYVSQPFLM ┆ II&nbsp;&nbsp;&nbsp;&nbsp;&nbsp;&nbsp;&nbsp;&nbsp;┆ … ┆ GQQLNQSPQ ┆ beta&nbsp;&nbsp;&nbsp;&nbsp;&nbsp;&nbsp;┆ human&nbsp;&nbsp;&nbsp;&nbsp;&nbsp;┆ NAGVTQTPK │\n",
       "│ cd2faad068 ┆&nbsp;&nbsp;&nbsp;&nbsp;&nbsp;&nbsp;&nbsp;&nbsp;&nbsp;┆&nbsp;&nbsp;&nbsp;&nbsp;&nbsp;&nbsp;&nbsp;&nbsp;&nbsp;&nbsp;&nbsp;┆&nbsp;&nbsp;&nbsp;&nbsp;&nbsp;&nbsp;&nbsp;&nbsp;&nbsp;&nbsp;&nbsp;┆&nbsp;&nbsp;&nbsp;┆ SMFIQEGED ┆&nbsp;&nbsp;&nbsp;&nbsp;&nbsp;&nbsp;&nbsp;&nbsp;&nbsp;&nbsp;&nbsp;┆&nbsp;&nbsp;&nbsp;&nbsp;&nbsp;&nbsp;&nbsp;&nbsp;&nbsp;&nbsp;&nbsp;┆ FQVLKTGQS │\n",
       "│ 302d5ce1b3 ┆&nbsp;&nbsp;&nbsp;&nbsp;&nbsp;&nbsp;&nbsp;&nbsp;&nbsp;┆&nbsp;&nbsp;&nbsp;&nbsp;&nbsp;&nbsp;&nbsp;&nbsp;&nbsp;&nbsp;&nbsp;┆&nbsp;&nbsp;&nbsp;&nbsp;&nbsp;&nbsp;&nbsp;&nbsp;&nbsp;&nbsp;&nbsp;┆&nbsp;&nbsp;&nbsp;┆ VSMNCTSSS ┆&nbsp;&nbsp;&nbsp;&nbsp;&nbsp;&nbsp;&nbsp;&nbsp;&nbsp;&nbsp;&nbsp;┆&nbsp;&nbsp;&nbsp;&nbsp;&nbsp;&nbsp;&nbsp;&nbsp;&nbsp;&nbsp;&nbsp;┆ MTLQCAQDM │\n",
       "│ …&nbsp;&nbsp;&nbsp;&nbsp;&nbsp;&nbsp;&nbsp;&nbsp;&nbsp;&nbsp;┆&nbsp;&nbsp;&nbsp;&nbsp;&nbsp;&nbsp;&nbsp;&nbsp;&nbsp;┆&nbsp;&nbsp;&nbsp;&nbsp;&nbsp;&nbsp;&nbsp;&nbsp;&nbsp;&nbsp;&nbsp;┆&nbsp;&nbsp;&nbsp;&nbsp;&nbsp;&nbsp;&nbsp;&nbsp;&nbsp;&nbsp;&nbsp;┆&nbsp;&nbsp;&nbsp;┆ IFN…&nbsp;&nbsp;&nbsp;&nbsp;&nbsp;&nbsp;┆&nbsp;&nbsp;&nbsp;&nbsp;&nbsp;&nbsp;&nbsp;&nbsp;&nbsp;&nbsp;&nbsp;┆&nbsp;&nbsp;&nbsp;&nbsp;&nbsp;&nbsp;&nbsp;&nbsp;&nbsp;&nbsp;&nbsp;┆ NHE…&nbsp;&nbsp;&nbsp;&nbsp;&nbsp;&nbsp;│\n",
       "└────────────┴─────────┴───────────┴───────────┴───┴───────────┴───────────┴───────────┴───────────┘</td></tr><tr><td>shape: (1, 18)\n",
       "┌────────────┬─────────┬───────────┬───────────┬───┬───────────┬───────────┬───────────┬───────────┐\n",
       "│ job_name&nbsp;&nbsp;&nbsp;┆ cognate ┆ peptide&nbsp;&nbsp;&nbsp;┆ mhc_class ┆ … ┆ tcr_1_seq ┆ tcr_2_cha ┆ tcr_2_spe ┆ tcr_2_seq │\n",
       "│ ---&nbsp;&nbsp;&nbsp;&nbsp;&nbsp;&nbsp;&nbsp;&nbsp;┆ ---&nbsp;&nbsp;&nbsp;&nbsp;&nbsp;┆ ---&nbsp;&nbsp;&nbsp;&nbsp;&nbsp;&nbsp;&nbsp;┆ ---&nbsp;&nbsp;&nbsp;&nbsp;&nbsp;&nbsp;&nbsp;┆&nbsp;&nbsp;&nbsp;┆ ---&nbsp;&nbsp;&nbsp;&nbsp;&nbsp;&nbsp;&nbsp;┆ in&nbsp;&nbsp;&nbsp;&nbsp;&nbsp;&nbsp;&nbsp;&nbsp;┆ cies&nbsp;&nbsp;&nbsp;&nbsp;&nbsp;&nbsp;┆ ---&nbsp;&nbsp;&nbsp;&nbsp;&nbsp;&nbsp;&nbsp;│\n",
       "│ str&nbsp;&nbsp;&nbsp;&nbsp;&nbsp;&nbsp;&nbsp;&nbsp;┆ bool&nbsp;&nbsp;&nbsp;&nbsp;┆ str&nbsp;&nbsp;&nbsp;&nbsp;&nbsp;&nbsp;&nbsp;┆ str&nbsp;&nbsp;&nbsp;&nbsp;&nbsp;&nbsp;&nbsp;┆&nbsp;&nbsp;&nbsp;┆ str&nbsp;&nbsp;&nbsp;&nbsp;&nbsp;&nbsp;&nbsp;┆ ---&nbsp;&nbsp;&nbsp;&nbsp;&nbsp;&nbsp;&nbsp;┆ ---&nbsp;&nbsp;&nbsp;&nbsp;&nbsp;&nbsp;&nbsp;┆ str&nbsp;&nbsp;&nbsp;&nbsp;&nbsp;&nbsp;&nbsp;│\n",
       "│&nbsp;&nbsp;&nbsp;&nbsp;&nbsp;&nbsp;&nbsp;&nbsp;&nbsp;&nbsp;&nbsp;&nbsp;┆&nbsp;&nbsp;&nbsp;&nbsp;&nbsp;&nbsp;&nbsp;&nbsp;&nbsp;┆&nbsp;&nbsp;&nbsp;&nbsp;&nbsp;&nbsp;&nbsp;&nbsp;&nbsp;&nbsp;&nbsp;┆&nbsp;&nbsp;&nbsp;&nbsp;&nbsp;&nbsp;&nbsp;&nbsp;&nbsp;&nbsp;&nbsp;┆&nbsp;&nbsp;&nbsp;┆&nbsp;&nbsp;&nbsp;&nbsp;&nbsp;&nbsp;&nbsp;&nbsp;&nbsp;&nbsp;&nbsp;┆ str&nbsp;&nbsp;&nbsp;&nbsp;&nbsp;&nbsp;&nbsp;┆ str&nbsp;&nbsp;&nbsp;&nbsp;&nbsp;&nbsp;&nbsp;┆&nbsp;&nbsp;&nbsp;&nbsp;&nbsp;&nbsp;&nbsp;&nbsp;&nbsp;&nbsp;&nbsp;│\n",
       "╞════════════╪═════════╪═══════════╪═══════════╪═══╪═══════════╪═══════════╪═══════════╪═══════════╡\n",
       "│ b24f52b796 ┆ true&nbsp;&nbsp;&nbsp;&nbsp;┆ YVSQPFLMD ┆ II&nbsp;&nbsp;&nbsp;&nbsp;&nbsp;&nbsp;&nbsp;&nbsp;┆ … ┆ GQQLNQSPQ ┆ beta&nbsp;&nbsp;&nbsp;&nbsp;&nbsp;&nbsp;┆ human&nbsp;&nbsp;&nbsp;&nbsp;&nbsp;┆ NAGVTQTPK │\n",
       "│ 2d7a393e45 ┆&nbsp;&nbsp;&nbsp;&nbsp;&nbsp;&nbsp;&nbsp;&nbsp;&nbsp;┆&nbsp;&nbsp;&nbsp;&nbsp;&nbsp;&nbsp;&nbsp;&nbsp;&nbsp;&nbsp;&nbsp;┆&nbsp;&nbsp;&nbsp;&nbsp;&nbsp;&nbsp;&nbsp;&nbsp;&nbsp;&nbsp;&nbsp;┆&nbsp;&nbsp;&nbsp;┆ SMFIQEGED ┆&nbsp;&nbsp;&nbsp;&nbsp;&nbsp;&nbsp;&nbsp;&nbsp;&nbsp;&nbsp;&nbsp;┆&nbsp;&nbsp;&nbsp;&nbsp;&nbsp;&nbsp;&nbsp;&nbsp;&nbsp;&nbsp;&nbsp;┆ FQVLKTGQS │\n",
       "│ 1a82af7ef1 ┆&nbsp;&nbsp;&nbsp;&nbsp;&nbsp;&nbsp;&nbsp;&nbsp;&nbsp;┆&nbsp;&nbsp;&nbsp;&nbsp;&nbsp;&nbsp;&nbsp;&nbsp;&nbsp;&nbsp;&nbsp;┆&nbsp;&nbsp;&nbsp;&nbsp;&nbsp;&nbsp;&nbsp;&nbsp;&nbsp;&nbsp;&nbsp;┆&nbsp;&nbsp;&nbsp;┆ VSMNCTSSS ┆&nbsp;&nbsp;&nbsp;&nbsp;&nbsp;&nbsp;&nbsp;&nbsp;&nbsp;&nbsp;&nbsp;┆&nbsp;&nbsp;&nbsp;&nbsp;&nbsp;&nbsp;&nbsp;&nbsp;&nbsp;&nbsp;&nbsp;┆ MTLQCAQDM │\n",
       "│ …&nbsp;&nbsp;&nbsp;&nbsp;&nbsp;&nbsp;&nbsp;&nbsp;&nbsp;&nbsp;┆&nbsp;&nbsp;&nbsp;&nbsp;&nbsp;&nbsp;&nbsp;&nbsp;&nbsp;┆&nbsp;&nbsp;&nbsp;&nbsp;&nbsp;&nbsp;&nbsp;&nbsp;&nbsp;&nbsp;&nbsp;┆&nbsp;&nbsp;&nbsp;&nbsp;&nbsp;&nbsp;&nbsp;&nbsp;&nbsp;&nbsp;&nbsp;┆&nbsp;&nbsp;&nbsp;┆ IFN…&nbsp;&nbsp;&nbsp;&nbsp;&nbsp;&nbsp;┆&nbsp;&nbsp;&nbsp;&nbsp;&nbsp;&nbsp;&nbsp;&nbsp;&nbsp;&nbsp;&nbsp;┆&nbsp;&nbsp;&nbsp;&nbsp;&nbsp;&nbsp;&nbsp;&nbsp;&nbsp;&nbsp;&nbsp;┆ NHE…&nbsp;&nbsp;&nbsp;&nbsp;&nbsp;&nbsp;│\n",
       "└────────────┴─────────┴───────────┴───────────┴───┴───────────┴───────────┴───────────┴───────────┘</td></tr><tr><td>shape: (1, 18)\n",
       "┌────────────┬─────────┬───────────┬───────────┬───┬───────────┬───────────┬───────────┬───────────┐\n",
       "│ job_name&nbsp;&nbsp;&nbsp;┆ cognate ┆ peptide&nbsp;&nbsp;&nbsp;┆ mhc_class ┆ … ┆ tcr_1_seq ┆ tcr_2_cha ┆ tcr_2_spe ┆ tcr_2_seq │\n",
       "│ ---&nbsp;&nbsp;&nbsp;&nbsp;&nbsp;&nbsp;&nbsp;&nbsp;┆ ---&nbsp;&nbsp;&nbsp;&nbsp;&nbsp;┆ ---&nbsp;&nbsp;&nbsp;&nbsp;&nbsp;&nbsp;&nbsp;┆ ---&nbsp;&nbsp;&nbsp;&nbsp;&nbsp;&nbsp;&nbsp;┆&nbsp;&nbsp;&nbsp;┆ ---&nbsp;&nbsp;&nbsp;&nbsp;&nbsp;&nbsp;&nbsp;┆ in&nbsp;&nbsp;&nbsp;&nbsp;&nbsp;&nbsp;&nbsp;&nbsp;┆ cies&nbsp;&nbsp;&nbsp;&nbsp;&nbsp;&nbsp;┆ ---&nbsp;&nbsp;&nbsp;&nbsp;&nbsp;&nbsp;&nbsp;│\n",
       "│ str&nbsp;&nbsp;&nbsp;&nbsp;&nbsp;&nbsp;&nbsp;&nbsp;┆ bool&nbsp;&nbsp;&nbsp;&nbsp;┆ str&nbsp;&nbsp;&nbsp;&nbsp;&nbsp;&nbsp;&nbsp;┆ str&nbsp;&nbsp;&nbsp;&nbsp;&nbsp;&nbsp;&nbsp;┆&nbsp;&nbsp;&nbsp;┆ str&nbsp;&nbsp;&nbsp;&nbsp;&nbsp;&nbsp;&nbsp;┆ ---&nbsp;&nbsp;&nbsp;&nbsp;&nbsp;&nbsp;&nbsp;┆ ---&nbsp;&nbsp;&nbsp;&nbsp;&nbsp;&nbsp;&nbsp;┆ str&nbsp;&nbsp;&nbsp;&nbsp;&nbsp;&nbsp;&nbsp;│\n",
       "│&nbsp;&nbsp;&nbsp;&nbsp;&nbsp;&nbsp;&nbsp;&nbsp;&nbsp;&nbsp;&nbsp;&nbsp;┆&nbsp;&nbsp;&nbsp;&nbsp;&nbsp;&nbsp;&nbsp;&nbsp;&nbsp;┆&nbsp;&nbsp;&nbsp;&nbsp;&nbsp;&nbsp;&nbsp;&nbsp;&nbsp;&nbsp;&nbsp;┆&nbsp;&nbsp;&nbsp;&nbsp;&nbsp;&nbsp;&nbsp;&nbsp;&nbsp;&nbsp;&nbsp;┆&nbsp;&nbsp;&nbsp;┆&nbsp;&nbsp;&nbsp;&nbsp;&nbsp;&nbsp;&nbsp;&nbsp;&nbsp;&nbsp;&nbsp;┆ str&nbsp;&nbsp;&nbsp;&nbsp;&nbsp;&nbsp;&nbsp;┆ str&nbsp;&nbsp;&nbsp;&nbsp;&nbsp;&nbsp;&nbsp;┆&nbsp;&nbsp;&nbsp;&nbsp;&nbsp;&nbsp;&nbsp;&nbsp;&nbsp;&nbsp;&nbsp;│\n",
       "╞════════════╪═════════╪═══════════╪═══════════╪═══╪═══════════╪═══════════╪═══════════╪═══════════╡\n",
       "│ 91fac19665 ┆ true&nbsp;&nbsp;&nbsp;&nbsp;┆ VSQPFLMDL ┆ II&nbsp;&nbsp;&nbsp;&nbsp;&nbsp;&nbsp;&nbsp;&nbsp;┆ … ┆ GQQLNQSPQ ┆ beta&nbsp;&nbsp;&nbsp;&nbsp;&nbsp;&nbsp;┆ human&nbsp;&nbsp;&nbsp;&nbsp;&nbsp;┆ NAGVTQTPK │\n",
       "│ ce79383faa ┆&nbsp;&nbsp;&nbsp;&nbsp;&nbsp;&nbsp;&nbsp;&nbsp;&nbsp;┆&nbsp;&nbsp;&nbsp;&nbsp;&nbsp;&nbsp;&nbsp;&nbsp;&nbsp;&nbsp;&nbsp;┆&nbsp;&nbsp;&nbsp;&nbsp;&nbsp;&nbsp;&nbsp;&nbsp;&nbsp;&nbsp;&nbsp;┆&nbsp;&nbsp;&nbsp;┆ SMFIQEGED ┆&nbsp;&nbsp;&nbsp;&nbsp;&nbsp;&nbsp;&nbsp;&nbsp;&nbsp;&nbsp;&nbsp;┆&nbsp;&nbsp;&nbsp;&nbsp;&nbsp;&nbsp;&nbsp;&nbsp;&nbsp;&nbsp;&nbsp;┆ FQVLKTGQS │\n",
       "│ d8459001ce ┆&nbsp;&nbsp;&nbsp;&nbsp;&nbsp;&nbsp;&nbsp;&nbsp;&nbsp;┆&nbsp;&nbsp;&nbsp;&nbsp;&nbsp;&nbsp;&nbsp;&nbsp;&nbsp;&nbsp;&nbsp;┆&nbsp;&nbsp;&nbsp;&nbsp;&nbsp;&nbsp;&nbsp;&nbsp;&nbsp;&nbsp;&nbsp;┆&nbsp;&nbsp;&nbsp;┆ VSMNCTSSS ┆&nbsp;&nbsp;&nbsp;&nbsp;&nbsp;&nbsp;&nbsp;&nbsp;&nbsp;&nbsp;&nbsp;┆&nbsp;&nbsp;&nbsp;&nbsp;&nbsp;&nbsp;&nbsp;&nbsp;&nbsp;&nbsp;&nbsp;┆ MTLQCAQDM │\n",
       "│ …&nbsp;&nbsp;&nbsp;&nbsp;&nbsp;&nbsp;&nbsp;&nbsp;&nbsp;&nbsp;┆&nbsp;&nbsp;&nbsp;&nbsp;&nbsp;&nbsp;&nbsp;&nbsp;&nbsp;┆&nbsp;&nbsp;&nbsp;&nbsp;&nbsp;&nbsp;&nbsp;&nbsp;&nbsp;&nbsp;&nbsp;┆&nbsp;&nbsp;&nbsp;&nbsp;&nbsp;&nbsp;&nbsp;&nbsp;&nbsp;&nbsp;&nbsp;┆&nbsp;&nbsp;&nbsp;┆ IFN…&nbsp;&nbsp;&nbsp;&nbsp;&nbsp;&nbsp;┆&nbsp;&nbsp;&nbsp;&nbsp;&nbsp;&nbsp;&nbsp;&nbsp;&nbsp;&nbsp;&nbsp;┆&nbsp;&nbsp;&nbsp;&nbsp;&nbsp;&nbsp;&nbsp;&nbsp;&nbsp;&nbsp;&nbsp;┆ NHE…&nbsp;&nbsp;&nbsp;&nbsp;&nbsp;&nbsp;│\n",
       "└────────────┴─────────┴───────────┴───────────┴───┴───────────┴───────────┴───────────┴───────────┘</td></tr><tr><td>&hellip;</td></tr><tr><td>{&#x27;job_name&#x27;: &#x27;cd6205ce24acecfb939456fe50018612&#x27;, &#x27;cognate&#x27;: False, &#x27;peptide&#x27;: &#x27;ERNAGSGII&#x27;, &#x27;mhc_class&#x27;: &#x27;II&#x27;, &#x27;mhc_1_chain&#x27;: &#x27;alpha&#x27;, &#x27;mhc_1_species&#x27;: &#x27;human&#x27;, &#x27;mhc_1_name&#x27;: &#x27;DQA1*01:02&#x27;, &#x27;mhc_1_seq&#x27;: &#x27;EDIVADHVASCGVNLYQFYGPSGQYTHEFDGDEQFYVDLERKETAWRWPEFSKFGGFDPQGALRNMAVAKHNLNIMIKRYNSTAATNEVPEVTVFSKSPVTLGQPNTLICLVDNIFPPVVNITWLSNGQSVTEGVSETSFLSKSDHSFFKISYLTFLPSADEIYDCKVEHWGLDQPLLKHWEPEIPAPMSELT&#x27;, &#x27;mhc_2_chain&#x27;: &#x27;beta&#x27;, &#x27;mhc_2_species&#x27;: &#x27;human&#x27;, &#x27;mhc_2_name&#x27;: &#x27;DQB1*06:02&#x27;, &#x27;mhc_2_seq&#x27;: &#x27;RDSPEDFVFQFKGMCYFTNGTERVRLVTRYIYNREEYARFDSDVGVYRAVTPQGRPDAEYWNSQKEVLEGTRAELDTVCRHNYEVAFRGILQRRVEPTVTISPSRTEALNHHNLLVCSVTDFYPGQIKVRWFRNDQEETAGVVSTPLIRNGDWTFQILVMLEMTPQRGDVYTCHVEHPSLQSPITVEWRAQSESAQSK&#x27;, &#x27;tcr_1_chain&#x27;: &#x27;alpha&#x27;, &#x27;tcr_1_species&#x27;: &#x27;human&#x27;, &#x27;tcr_1_seq&#x27;: &#x27;AQSVTQLGSHVSVSEGALVLLRCNYSSSVPPYLFWYVQYPNQGLQLLLKYTSAATLVKGINGFEAEFKKSETSFHLTKPSAHMSDAAEYFCAVSDKGDSSYKLIFGSGTRLLVRPD&#x27;, &#x27;tcr_2_chain&#x27;: &#x27;beta&#x27;, &#x27;tcr_2_species&#x27;: &#x27;human&#x27;, &#x27;tcr_2_seq&#x27;: &#x27;DTGVSQNPRHKITKRGQNVTFRCDPISEHNRLYWYRQTLGQGPEFLTYFQNEAQLEKSRLLSDRFSAERPKGSFSTLEIQRTEQGDSAMYLCASSLGTGYEQYFGPGTRLTVTE&#x27;}</td></tr><tr><td>{&#x27;job_name&#x27;: &#x27;91978857905b0abb0ae3ca2653526d76&#x27;, &#x27;cognate&#x27;: False, &#x27;peptide&#x27;: &#x27;RNAGSGIII&#x27;, &#x27;mhc_class&#x27;: &#x27;II&#x27;, &#x27;mhc_1_chain&#x27;: &#x27;alpha&#x27;, &#x27;mhc_1_species&#x27;: &#x27;human&#x27;, &#x27;mhc_1_name&#x27;: &#x27;DQA1*01:02&#x27;, &#x27;mhc_1_seq&#x27;: &#x27;EDIVADHVASCGVNLYQFYGPSGQYTHEFDGDEQFYVDLERKETAWRWPEFSKFGGFDPQGALRNMAVAKHNLNIMIKRYNSTAATNEVPEVTVFSKSPVTLGQPNTLICLVDNIFPPVVNITWLSNGQSVTEGVSETSFLSKSDHSFFKISYLTFLPSADEIYDCKVEHWGLDQPLLKHWEPEIPAPMSELT&#x27;, &#x27;mhc_2_chain&#x27;: &#x27;beta&#x27;, &#x27;mhc_2_species&#x27;: &#x27;human&#x27;, &#x27;mhc_2_name&#x27;: &#x27;DQB1*06:02&#x27;, &#x27;mhc_2_seq&#x27;: &#x27;RDSPEDFVFQFKGMCYFTNGTERVRLVTRYIYNREEYARFDSDVGVYRAVTPQGRPDAEYWNSQKEVLEGTRAELDTVCRHNYEVAFRGILQRRVEPTVTISPSRTEALNHHNLLVCSVTDFYPGQIKVRWFRNDQEETAGVVSTPLIRNGDWTFQILVMLEMTPQRGDVYTCHVEHPSLQSPITVEWRAQSESAQSK&#x27;, &#x27;tcr_1_chain&#x27;: &#x27;alpha&#x27;, &#x27;tcr_1_species&#x27;: &#x27;human&#x27;, &#x27;tcr_1_seq&#x27;: &#x27;AQSVTQLGSHVSVSEGALVLLRCNYSSSVPPYLFWYVQYPNQGLQLLLKYTSAATLVKGINGFEAEFKKSETSFHLTKPSAHMSDAAEYFCAVSDKGDSSYKLIFGSGTRLLVRPD&#x27;, &#x27;tcr_2_chain&#x27;: &#x27;beta&#x27;, &#x27;tcr_2_species&#x27;: &#x27;human&#x27;, &#x27;tcr_2_seq&#x27;: &#x27;DTGVSQNPRHKITKRGQNVTFRCDPISEHNRLYWYRQTLGQGPEFLTYFQNEAQLEKSRLLSDRFSAERPKGSFSTLEIQRTEQGDSAMYLCASSLGTGYEQYFGPGTRLTVTE&#x27;}</td></tr><tr><td>{&#x27;job_name&#x27;: &#x27;aee1277d23a42cdc5a1f57a2cc897c07&#x27;, &#x27;cognate&#x27;: False, &#x27;peptide&#x27;: &#x27;NAGSGIIIS&#x27;, &#x27;mhc_class&#x27;: &#x27;II&#x27;, &#x27;mhc_1_chain&#x27;: &#x27;alpha&#x27;, &#x27;mhc_1_species&#x27;: &#x27;human&#x27;, &#x27;mhc_1_name&#x27;: &#x27;DQA1*01:02&#x27;, &#x27;mhc_1_seq&#x27;: &#x27;EDIVADHVASCGVNLYQFYGPSGQYTHEFDGDEQFYVDLERKETAWRWPEFSKFGGFDPQGALRNMAVAKHNLNIMIKRYNSTAATNEVPEVTVFSKSPVTLGQPNTLICLVDNIFPPVVNITWLSNGQSVTEGVSETSFLSKSDHSFFKISYLTFLPSADEIYDCKVEHWGLDQPLLKHWEPEIPAPMSELT&#x27;, &#x27;mhc_2_chain&#x27;: &#x27;beta&#x27;, &#x27;mhc_2_species&#x27;: &#x27;human&#x27;, &#x27;mhc_2_name&#x27;: &#x27;DQB1*06:02&#x27;, &#x27;mhc_2_seq&#x27;: &#x27;RDSPEDFVFQFKGMCYFTNGTERVRLVTRYIYNREEYARFDSDVGVYRAVTPQGRPDAEYWNSQKEVLEGTRAELDTVCRHNYEVAFRGILQRRVEPTVTISPSRTEALNHHNLLVCSVTDFYPGQIKVRWFRNDQEETAGVVSTPLIRNGDWTFQILVMLEMTPQRGDVYTCHVEHPSLQSPITVEWRAQSESAQSK&#x27;, &#x27;tcr_1_chain&#x27;: &#x27;alpha&#x27;, &#x27;tcr_1_species&#x27;: &#x27;human&#x27;, &#x27;tcr_1_seq&#x27;: &#x27;AQSVTQLGSHVSVSEGALVLLRCNYSSSVPPYLFWYVQYPNQGLQLLLKYTSAATLVKGINGFEAEFKKSETSFHLTKPSAHMSDAAEYFCAVSDKGDSSYKLIFGSGTRLLVRPD&#x27;, &#x27;tcr_2_chain&#x27;: &#x27;beta&#x27;, &#x27;tcr_2_species&#x27;: &#x27;human&#x27;, &#x27;tcr_2_seq&#x27;: &#x27;DTGVSQNPRHKITKRGQNVTFRCDPISEHNRLYWYRQTLGQGPEFLTYFQNEAQLEKSRLLSDRFSAERPKGSFSTLEIQRTEQGDSAMYLCASSLGTGYEQYFGPGTRLTVTE&#x27;}</td></tr><tr><td>{&#x27;job_name&#x27;: &#x27;9433ae9d85a0b4e5211997133ccb8d4f&#x27;, &#x27;cognate&#x27;: False, &#x27;peptide&#x27;: &#x27;AGSGIIISD&#x27;, &#x27;mhc_class&#x27;: &#x27;II&#x27;, &#x27;mhc_1_chain&#x27;: &#x27;alpha&#x27;, &#x27;mhc_1_species&#x27;: &#x27;human&#x27;, &#x27;mhc_1_name&#x27;: &#x27;DQA1*01:02&#x27;, &#x27;mhc_1_seq&#x27;: &#x27;EDIVADHVASCGVNLYQFYGPSGQYTHEFDGDEQFYVDLERKETAWRWPEFSKFGGFDPQGALRNMAVAKHNLNIMIKRYNSTAATNEVPEVTVFSKSPVTLGQPNTLICLVDNIFPPVVNITWLSNGQSVTEGVSETSFLSKSDHSFFKISYLTFLPSADEIYDCKVEHWGLDQPLLKHWEPEIPAPMSELT&#x27;, &#x27;mhc_2_chain&#x27;: &#x27;beta&#x27;, &#x27;mhc_2_species&#x27;: &#x27;human&#x27;, &#x27;mhc_2_name&#x27;: &#x27;DQB1*06:02&#x27;, &#x27;mhc_2_seq&#x27;: &#x27;RDSPEDFVFQFKGMCYFTNGTERVRLVTRYIYNREEYARFDSDVGVYRAVTPQGRPDAEYWNSQKEVLEGTRAELDTVCRHNYEVAFRGILQRRVEPTVTISPSRTEALNHHNLLVCSVTDFYPGQIKVRWFRNDQEETAGVVSTPLIRNGDWTFQILVMLEMTPQRGDVYTCHVEHPSLQSPITVEWRAQSESAQSK&#x27;, &#x27;tcr_1_chain&#x27;: &#x27;alpha&#x27;, &#x27;tcr_1_species&#x27;: &#x27;human&#x27;, &#x27;tcr_1_seq&#x27;: &#x27;AQSVTQLGSHVSVSEGALVLLRCNYSSSVPPYLFWYVQYPNQGLQLLLKYTSAATLVKGINGFEAEFKKSETSFHLTKPSAHMSDAAEYFCAVSDKGDSSYKLIFGSGTRLLVRPD&#x27;, &#x27;tcr_2_chain&#x27;: &#x27;beta&#x27;, &#x27;tcr_2_species&#x27;: &#x27;human&#x27;, &#x27;tcr_2_seq&#x27;: &#x27;DTGVSQNPRHKITKRGQNVTFRCDPISEHNRLYWYRQTLGQGPEFLTYFQNEAQLEKSRLLSDRFSAERPKGSFSTLEIQRTEQGDSAMYLCASSLGTGYEQYFGPGTRLTVTE&#x27;}</td></tr><tr><td>{&#x27;job_name&#x27;: &#x27;5394305586a7e9e5e195d109d327e29b&#x27;, &#x27;cognate&#x27;: False, &#x27;peptide&#x27;: &#x27;GSGIIISDT&#x27;, &#x27;mhc_class&#x27;: &#x27;II&#x27;, &#x27;mhc_1_chain&#x27;: &#x27;alpha&#x27;, &#x27;mhc_1_species&#x27;: &#x27;human&#x27;, &#x27;mhc_1_name&#x27;: &#x27;DQA1*01:02&#x27;, &#x27;mhc_1_seq&#x27;: &#x27;EDIVADHVASCGVNLYQFYGPSGQYTHEFDGDEQFYVDLERKETAWRWPEFSKFGGFDPQGALRNMAVAKHNLNIMIKRYNSTAATNEVPEVTVFSKSPVTLGQPNTLICLVDNIFPPVVNITWLSNGQSVTEGVSETSFLSKSDHSFFKISYLTFLPSADEIYDCKVEHWGLDQPLLKHWEPEIPAPMSELT&#x27;, &#x27;mhc_2_chain&#x27;: &#x27;beta&#x27;, &#x27;mhc_2_species&#x27;: &#x27;human&#x27;, &#x27;mhc_2_name&#x27;: &#x27;DQB1*06:02&#x27;, &#x27;mhc_2_seq&#x27;: &#x27;RDSPEDFVFQFKGMCYFTNGTERVRLVTRYIYNREEYARFDSDVGVYRAVTPQGRPDAEYWNSQKEVLEGTRAELDTVCRHNYEVAFRGILQRRVEPTVTISPSRTEALNHHNLLVCSVTDFYPGQIKVRWFRNDQEETAGVVSTPLIRNGDWTFQILVMLEMTPQRGDVYTCHVEHPSLQSPITVEWRAQSESAQSK&#x27;, &#x27;tcr_1_chain&#x27;: &#x27;alpha&#x27;, &#x27;tcr_1_species&#x27;: &#x27;human&#x27;, &#x27;tcr_1_seq&#x27;: &#x27;AQSVTQLGSHVSVSEGALVLLRCNYSSSVPPYLFWYVQYPNQGLQLLLKYTSAATLVKGINGFEAEFKKSETSFHLTKPSAHMSDAAEYFCAVSDKGDSSYKLIFGSGTRLLVRPD&#x27;, &#x27;tcr_2_chain&#x27;: &#x27;beta&#x27;, &#x27;tcr_2_species&#x27;: &#x27;human&#x27;, &#x27;tcr_2_seq&#x27;: &#x27;DTGVSQNPRHKITKRGQNVTFRCDPISEHNRLYWYRQTLGQGPEFLTYFQNEAQLEKSRLLSDRFSAERPKGSFSTLEIQRTEQGDSAMYLCASSLGTGYEQYFGPGTRLTVTE&#x27;}</td></tr></tbody></table></div>"
      ],
      "text/plain": [
       "shape: (83_182, 1)\n",
       "┌─────────────────────────────────┐\n",
       "│ column_0                        │\n",
       "│ ---                             │\n",
       "│ object                          │\n",
       "╞═════════════════════════════════╡\n",
       "│ shape: (1, 18)                  │\n",
       "│ ┌────────────┬─…                │\n",
       "│ shape: (1, 18)                  │\n",
       "│ ┌────────────┬─…                │\n",
       "│ shape: (1, 18)                  │\n",
       "│ ┌────────────┬─…                │\n",
       "│ shape: (1, 18)                  │\n",
       "│ ┌────────────┬─…                │\n",
       "│ shape: (1, 18)                  │\n",
       "│ ┌────────────┬─…                │\n",
       "│ …                               │\n",
       "│ {'job_name': 'cd6205ce24acecfb… │\n",
       "│ {'job_name': '91978857905b0abb… │\n",
       "│ {'job_name': 'aee1277d23a42cdc… │\n",
       "│ {'job_name': '9433ae9d85a0b4e5… │\n",
       "│ {'job_name': '5394305586a7e9e5… │\n",
       "└─────────────────────────────────┘"
      ]
     },
     "execution_count": 4,
     "metadata": {},
     "output_type": "execute_result"
    },
    {
     "ename": "",
     "evalue": "",
     "output_type": "error",
     "traceback": [
      "\u001b[1;31mThe Kernel crashed while executing code in the current cell or a previous cell. \n",
      "\u001b[1;31mPlease review the code in the cell(s) to identify a possible cause of the failure. \n",
      "\u001b[1;31mClick <a href='https://aka.ms/vscodeJupyterKernelCrash'>here</a> for more info. \n",
      "\u001b[1;31mView Jupyter <a href='command:jupyter.viewOutput'>log</a> for further details."
     ]
    }
   ],
   "source": [
    "from process_utils import tcrdock_format_cif\n",
    "from mdaf3.FeatureExtraction import split_apply_combine, serial_apply\n",
    "import warnings\n",
    "import polars as pl\n",
    "\n",
    "warnings.filterwarnings(\"ignore\")\n",
    "\n",
    "serial_apply(\n",
    "    pl.read_csv(\"triad/human_II/human_II_bench_thresh_20_windowed.csv\"),\n",
    "    tcrdock_format_cif,\n",
    "    human_II_bench_inf,\n",
    "    human_II_out_path,\n",
    ")"
   ]
  }
 ],
 "metadata": {
  "kernelspec": {
   "display_name": "af3-analyzer",
   "language": "python",
   "name": "python3"
  },
  "language_info": {
   "codemirror_mode": {
    "name": "ipython",
    "version": 3
   },
   "file_extension": ".py",
   "mimetype": "text/x-python",
   "name": "python",
   "nbconvert_exporter": "python",
   "pygments_lexer": "ipython3",
   "version": "3.13.2"
  }
 },
 "nbformat": 4,
 "nbformat_minor": 2
}
